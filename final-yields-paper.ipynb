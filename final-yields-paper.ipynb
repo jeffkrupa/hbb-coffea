{
 "cells": [
  {
   "cell_type": "code",
   "execution_count": 1,
   "metadata": {},
   "outputs": [
    {
     "name": "stderr",
     "output_type": "stream",
     "text": [
      "/opt/conda/lib/python3.8/site-packages/coffea/util.py:154: FutureWarning: In coffea version v0.8.0 (target date: 31 Dec 2022), this will be an error.\n",
      "(Set coffea.deprecations_as_errors = True to get a stack trace now.)\n",
      "ImportError: coffea.hist is deprecated\n",
      "  warnings.warn(message, FutureWarning)\n"
     ]
    }
   ],
   "source": [
    "import os, subprocess\n",
    "import json\n",
    "import uproot\n",
    "import awkward as ak\n",
    "import numpy as np\n",
    "from coffea import processor, util, hist\n",
    "import pandas as pd\n",
    "import pickle"
   ]
  },
  {
   "cell_type": "code",
   "execution_count": 2,
   "metadata": {},
   "outputs": [],
   "source": [
    "ddbthr = 0.64"
   ]
  },
  {
   "cell_type": "code",
   "execution_count": 3,
   "metadata": {},
   "outputs": [],
   "source": [
    "templates_array = []\n",
    "\n",
    "years=['2016APV','2016','2017','2018']\n",
    "for year in years:\n",
    "    picklename = year+'/templates.pkl'\n",
    "    templates_array += [pickle.load(open(picklename,'rb')).sum('msd1','pt1').integrate('systematic','nominal').integrate('mjj',overflow='allnan')]"
   ]
  },
  {
   "cell_type": "code",
   "execution_count": 4,
   "metadata": {},
   "outputs": [
    {
     "data": {
      "text/plain": [
       "[<Hist (process,region,genflavor,ddb1) instance at 0x7efdebabfe50>,\n",
       " <Hist (process,region,genflavor,ddb1) instance at 0x7efdebacbac0>,\n",
       " <Hist (process,region,genflavor,ddb1) instance at 0x7efdebacb670>,\n",
       " <Hist (process,region,genflavor,ddb1) instance at 0x7efdeba08b50>]"
      ]
     },
     "execution_count": 4,
     "metadata": {},
     "output_type": "execute_result"
    }
   ],
   "source": [
    "templates_array"
   ]
  },
  {
   "cell_type": "code",
   "execution_count": 5,
   "metadata": {},
   "outputs": [
    {
     "data": {
      "text/plain": [
       "<Hist (process,region,genflavor,ddb1) instance at 0x7efe685165b0>"
      ]
     },
     "execution_count": 5,
     "metadata": {},
     "output_type": "execute_result"
    }
   ],
   "source": [
    "templates = np.sum(templates_array)\n",
    "templates"
   ]
  },
  {
   "cell_type": "code",
   "execution_count": 6,
   "metadata": {},
   "outputs": [
    {
     "data": {
      "text/plain": [
       "[<StringBin (EWKW) instance at 0x7efdebabf040>,\n",
       " <StringBin (EWKZ) instance at 0x7efe68510e20>,\n",
       " <StringBin (QCD) instance at 0x7efe6853e1f0>,\n",
       " <StringBin (VBF) instance at 0x7efdebabf160>,\n",
       " <StringBin (VBFDipoleRecoilOff) instance at 0x7efdebabf100>,\n",
       " <StringBin (VV) instance at 0x7efe68510ee0>,\n",
       " <StringBin (WH) instance at 0x7efdebabf1c0>,\n",
       " <StringBin (Wjets) instance at 0x7efe6853e9d0>,\n",
       " <StringBin (ZH) instance at 0x7efdebabf220>,\n",
       " <StringBin (Zjets) instance at 0x7efe6853e5b0>,\n",
       " <StringBin (ZjetsHT) instance at 0x7efe68510ca0>,\n",
       " <StringBin (data) instance at 0x7efdebabf2e0>,\n",
       " <StringBin (ggF) instance at 0x7efdebabf0a0>,\n",
       " <StringBin (muondata) instance at 0x7efdebabf340>,\n",
       " <StringBin (singlet) instance at 0x7efe6853e4c0>,\n",
       " <StringBin (ttH) instance at 0x7efdebabf280>,\n",
       " <StringBin (ttbar) instance at 0x7efe6853e3a0>]"
      ]
     },
     "execution_count": 6,
     "metadata": {},
     "output_type": "execute_result"
    }
   ],
   "source": [
    "templates.identifiers('process')"
   ]
  },
  {
   "cell_type": "code",
   "execution_count": 7,
   "metadata": {},
   "outputs": [],
   "source": [
    "mc = {'QCD':'QCD','Wjets':'Wjets','Zjets':'Zjets','Zjetsbb':'Zjetsbb','EWKV':['EWKW','EWKZ'],'ttbar':'ttbar','singlet':'singlet','VV':'VV','ggF':'ggF','VBF':'VBF','VH':['WH','ZH'],'ttH':'ttH'}\n",
    "#mc = {'ggF':'ggF','VBF':'VBF','VH':['WH','ZH'],'ttH':'ttH'}\n",
    "cutflow = pd.DataFrame(columns=['ggffail','ggfpass','vbffail','vbfpass'],index=mc)"
   ]
  },
  {
   "cell_type": "code",
   "execution_count": 8,
   "metadata": {},
   "outputs": [
    {
     "data": {
      "text/plain": [
       "{(): 12422439.831586033}"
      ]
     },
     "execution_count": 8,
     "metadata": {},
     "output_type": "execute_result"
    }
   ],
   "source": [
    "templates.integrate('process','QCD').integrate('region',['signal-ggf','signal-vbf']).sum('genflavor','ddb1').values()"
   ]
  },
  {
   "cell_type": "code",
   "execution_count": 9,
   "metadata": {},
   "outputs": [
    {
     "name": "stdout",
     "output_type": "stream",
     "text": [
      "QCD\n",
      "Wjets\n",
      "Zjets\n",
      "Zjetsbb\n",
      "['EWKW', 'EWKZ']\n",
      "ttbar\n",
      "singlet\n",
      "VV\n",
      "ggF\n",
      "VBF\n",
      "['WH', 'ZH']\n",
      "ttH\n"
     ]
    }
   ],
   "source": [
    "for k,p in mc.items():\n",
    "    print(p)\n",
    "    if \"Zjets\" in p:\n",
    "        continue\n",
    "    \n",
    "    cutflow['ggffail'][k] = templates.sum('genflavor').integrate('ddb1',int_range=slice(0,ddbthr)).integrate('region','signal-ggf').integrate('process',p).values()[()]\n",
    "    cutflow['ggfpass'][k] = templates.sum('genflavor').integrate('ddb1',int_range=slice(ddbthr,1)).integrate('region','signal-ggf').integrate('process',p).values()[()]\n",
    "    cutflow['vbffail'][k] = templates.sum('genflavor').integrate('ddb1',int_range=slice(0,ddbthr)).integrate('region','signal-vbf').integrate('process',p).values()[()]\n",
    "    cutflow['vbfpass'][k] = templates.sum('genflavor').integrate('ddb1',int_range=slice(ddbthr,1)).integrate('region','signal-vbf').integrate('process',p).values()[()]\n",
    "    \n",
    "cutflow['ggffail']['Zjets'] = templates.integrate('genflavor',int_range=slice(0,3)).integrate('ddb1',int_range=slice(0,ddbthr)).integrate('region','signal-ggf').integrate('process','Zjets').values()[()]\n",
    "cutflow['ggfpass']['Zjets'] = templates.integrate('genflavor',int_range=slice(0,3)).integrate('ddb1',int_range=slice(ddbthr,1)).integrate('region','signal-ggf').integrate('process','Zjets').values()[()]\n",
    "cutflow['vbffail']['Zjets'] = templates.integrate('genflavor',int_range=slice(0,3)).integrate('ddb1',int_range=slice(0,ddbthr)).integrate('region','signal-vbf').integrate('process','Zjets').values()[()]\n",
    "cutflow['vbfpass']['Zjets'] = templates.integrate('genflavor',int_range=slice(0,3)).integrate('ddb1',int_range=slice(ddbthr,1)).integrate('region','signal-vbf').integrate('process','Zjets').values()[()]\n",
    "\n",
    "cutflow['ggffail']['Zjetsbb'] = templates.integrate('genflavor',int_range=slice(3,4)).integrate('ddb1',int_range=slice(0,ddbthr)).integrate('region','signal-ggf').integrate('process','Zjets').values()[()]\n",
    "cutflow['ggfpass']['Zjetsbb'] = templates.integrate('genflavor',int_range=slice(3,4)).integrate('ddb1',int_range=slice(ddbthr,1)).integrate('region','signal-ggf').integrate('process','Zjets').values()[()]\n",
    "cutflow['vbffail']['Zjetsbb'] = templates.integrate('genflavor',int_range=slice(3,4)).integrate('ddb1',int_range=slice(0,ddbthr)).integrate('region','signal-vbf').integrate('process','Zjets').values()[()]\n",
    "cutflow['vbfpass']['Zjetsbb'] = templates.integrate('genflavor',int_range=slice(3,4)).integrate('ddb1',int_range=slice(ddbthr,1)).integrate('region','signal-vbf').integrate('process','Zjets').values()[()]\n",
    "\n"
   ]
  },
  {
   "cell_type": "code",
   "execution_count": 10,
   "metadata": {},
   "outputs": [
    {
     "data": {
      "text/html": [
       "<div>\n",
       "<style scoped>\n",
       "    .dataframe tbody tr th:only-of-type {\n",
       "        vertical-align: middle;\n",
       "    }\n",
       "\n",
       "    .dataframe tbody tr th {\n",
       "        vertical-align: top;\n",
       "    }\n",
       "\n",
       "    .dataframe thead th {\n",
       "        text-align: right;\n",
       "    }\n",
       "</style>\n",
       "<table border=\"1\" class=\"dataframe\">\n",
       "  <thead>\n",
       "    <tr style=\"text-align: right;\">\n",
       "      <th></th>\n",
       "      <th>ggffail</th>\n",
       "      <th>ggfpass</th>\n",
       "      <th>vbffail</th>\n",
       "      <th>vbfpass</th>\n",
       "    </tr>\n",
       "  </thead>\n",
       "  <tbody>\n",
       "    <tr>\n",
       "      <th>QCD</th>\n",
       "      <td>11842721</td>\n",
       "      <td>35516</td>\n",
       "      <td>541458</td>\n",
       "      <td>2743</td>\n",
       "    </tr>\n",
       "    <tr>\n",
       "      <th>Wjets</th>\n",
       "      <td>310939</td>\n",
       "      <td>1002</td>\n",
       "      <td>8065</td>\n",
       "      <td>25</td>\n",
       "    </tr>\n",
       "    <tr>\n",
       "      <th>Zjets</th>\n",
       "      <td>108133</td>\n",
       "      <td>656</td>\n",
       "      <td>2816</td>\n",
       "      <td>17</td>\n",
       "    </tr>\n",
       "    <tr>\n",
       "      <th>Zjetsbb</th>\n",
       "      <td>13890</td>\n",
       "      <td>4597</td>\n",
       "      <td>325</td>\n",
       "      <td>116</td>\n",
       "    </tr>\n",
       "    <tr>\n",
       "      <th>EWKV</th>\n",
       "      <td>17482</td>\n",
       "      <td>276</td>\n",
       "      <td>2904</td>\n",
       "      <td>64</td>\n",
       "    </tr>\n",
       "    <tr>\n",
       "      <th>ttbar</th>\n",
       "      <td>42416</td>\n",
       "      <td>493</td>\n",
       "      <td>1327</td>\n",
       "      <td>16</td>\n",
       "    </tr>\n",
       "    <tr>\n",
       "      <th>singlet</th>\n",
       "      <td>5312</td>\n",
       "      <td>53</td>\n",
       "      <td>156</td>\n",
       "      <td>0</td>\n",
       "    </tr>\n",
       "    <tr>\n",
       "      <th>VV</th>\n",
       "      <td>4417</td>\n",
       "      <td>97</td>\n",
       "      <td>130</td>\n",
       "      <td>3</td>\n",
       "    </tr>\n",
       "    <tr>\n",
       "      <th>ggF</th>\n",
       "      <td>259</td>\n",
       "      <td>103</td>\n",
       "      <td>11</td>\n",
       "      <td>4</td>\n",
       "    </tr>\n",
       "    <tr>\n",
       "      <th>VBF</th>\n",
       "      <td>59</td>\n",
       "      <td>27</td>\n",
       "      <td>38</td>\n",
       "      <td>19</td>\n",
       "    </tr>\n",
       "    <tr>\n",
       "      <th>VH</th>\n",
       "      <td>86</td>\n",
       "      <td>28</td>\n",
       "      <td>1</td>\n",
       "      <td>0</td>\n",
       "    </tr>\n",
       "    <tr>\n",
       "      <th>ttH</th>\n",
       "      <td>41</td>\n",
       "      <td>4</td>\n",
       "      <td>0</td>\n",
       "      <td>0</td>\n",
       "    </tr>\n",
       "  </tbody>\n",
       "</table>\n",
       "</div>"
      ],
      "text/plain": [
       "          ggffail  ggfpass  vbffail  vbfpass\n",
       "QCD      11842721    35516   541458     2743\n",
       "Wjets      310939     1002     8065       25\n",
       "Zjets      108133      656     2816       17\n",
       "Zjetsbb     13890     4597      325      116\n",
       "EWKV        17482      276     2904       64\n",
       "ttbar       42416      493     1327       16\n",
       "singlet      5312       53      156        0\n",
       "VV           4417       97      130        3\n",
       "ggF           259      103       11        4\n",
       "VBF            59       27       38       19\n",
       "VH             86       28        1        0\n",
       "ttH            41        4        0        0"
      ]
     },
     "execution_count": 10,
     "metadata": {},
     "output_type": "execute_result"
    }
   ],
   "source": [
    "cutflow.astype('int')"
   ]
  },
  {
   "cell_type": "code",
   "execution_count": 11,
   "metadata": {},
   "outputs": [
    {
     "data": {
      "text/plain": [
       "3.6331004224550446e-05"
      ]
     },
     "execution_count": 11,
     "metadata": {},
     "output_type": "execute_result"
    }
   ],
   "source": [
    "(cutflow['ggffail']['ggF']+cutflow['ggfpass']['ggF']+cutflow['ggffail']['VBF']+cutflow['ggfpass']['VBF'])/sum(cutflow['ggffail']+cutflow['ggfpass'])"
   ]
  },
  {
   "cell_type": "code",
   "execution_count": 12,
   "metadata": {},
   "outputs": [
    {
     "data": {
      "text/plain": [
       "0.0001329328430978816"
      ]
     },
     "execution_count": 12,
     "metadata": {},
     "output_type": "execute_result"
    }
   ],
   "source": [
    "(cutflow['vbffail']['ggF']+cutflow['vbfpass']['ggF']+cutflow['vbffail']['VBF']+cutflow['vbfpass']['VBF'])/sum(cutflow['vbffail']+cutflow['vbfpass'])"
   ]
  },
  {
   "cell_type": "code",
   "execution_count": 13,
   "metadata": {},
   "outputs": [
    {
     "data": {
      "text/plain": [
       "0.00010307196253685578"
      ]
     },
     "execution_count": 13,
     "metadata": {},
     "output_type": "execute_result"
    }
   ],
   "source": [
    "(cutflow['vbffail']['VBF']+cutflow['vbfpass']['VBF'])/sum(cutflow['vbffail']+cutflow['vbfpass'])"
   ]
  },
  {
   "cell_type": "code",
   "execution_count": null,
   "metadata": {},
   "outputs": [],
   "source": [
    "cutflow.to_csv('cutflow.csv')"
   ]
  }
 ],
 "metadata": {
  "kernelspec": {
   "display_name": "Python 3 (ipykernel)",
   "language": "python",
   "name": "python3"
  },
  "language_info": {
   "codemirror_mode": {
    "name": "ipython",
    "version": 3
   },
   "file_extension": ".py",
   "mimetype": "text/x-python",
   "name": "python",
   "nbconvert_exporter": "python",
   "pygments_lexer": "ipython3",
   "version": "3.8.12"
  }
 },
 "nbformat": 4,
 "nbformat_minor": 2
}
