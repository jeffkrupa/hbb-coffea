{
 "cells": [
  {
   "cell_type": "code",
   "execution_count": 25,
   "metadata": {},
   "outputs": [],
   "source": [
    "import os\n",
    "import uproot\n",
    "import numpy as np\n",
    "from coffea import processor, util, hist\n",
    "from coffea.lookup_tools.dense_lookup import dense_lookup"
   ]
  },
  {
   "cell_type": "code",
   "execution_count": 26,
   "metadata": {},
   "outputs": [],
   "source": [
    "year='2018'\n",
    "tagger = 'deepJet'\n",
    "wp = 'M'"
   ]
  },
  {
   "cell_type": "code",
   "execution_count": 27,
   "metadata": {},
   "outputs": [],
   "source": [
    "filename = '../outfiles-btag/btag_'+tagger+'_'+wp+'_'+str(year)+'.coffea'\n",
    "if not os.path.isfile(filename):\n",
    "    print(\"You need to create the coffea file \"+filename)\n",
    "else:\n",
    "    efficiencyinfo = util.load(filename).integrate('tagger',tagger)"
   ]
  },
  {
   "cell_type": "code",
   "execution_count": 28,
   "metadata": {},
   "outputs": [],
   "source": [
    "h = efficiencyinfo.integrate('passWP',1)\n",
    "eff = efficiencyinfo.integrate('passWP',1).values()[()] / efficiencyinfo.sum(\"passWP\").values()[()]"
   ]
  },
  {
   "cell_type": "code",
   "execution_count": 29,
   "metadata": {},
   "outputs": [],
   "source": [
    "efflookup = dense_lookup(eff, [ax.edges() for ax in h.axes()])"
   ]
  },
  {
   "cell_type": "code",
   "execution_count": 30,
   "metadata": {},
   "outputs": [],
   "source": [
    "util.save(efflookup, '../boostedhiggs/data/btageff_'+tagger+'_'+wp+'_'+year+'.coffea')"
   ]
  },
  {
   "cell_type": "code",
   "execution_count": 31,
   "metadata": {},
   "outputs": [
    {
     "data": {
      "text/plain": [
       "3 dimensional histogram with axes:\n",
       "\t1: [0. 4. 5.]\n",
       "\t2: [ 40.  53.  66.  79.  92. 105. 118. 131. 144. 157. 170. 183. 196. 209.\n",
       " 222. 235. 248. 261. 274. 287. 300.]\n",
       "\t3: [0.    0.625 1.25  1.875 2.5  ]"
      ]
     },
     "execution_count": 31,
     "metadata": {},
     "output_type": "execute_result"
    }
   ],
   "source": [
    "efflookup"
   ]
  },
  {
   "cell_type": "code",
   "execution_count": null,
   "metadata": {},
   "outputs": [],
   "source": []
  }
 ],
 "metadata": {
  "kernelspec": {
   "display_name": "Python 3 (ipykernel)",
   "language": "python",
   "name": "python3"
  },
  "language_info": {
   "codemirror_mode": {
    "name": "ipython",
    "version": 3
   },
   "file_extension": ".py",
   "mimetype": "text/x-python",
   "name": "python",
   "nbconvert_exporter": "python",
   "pygments_lexer": "ipython3",
   "version": "3.8.13"
  }
 },
 "nbformat": 4,
 "nbformat_minor": 2
}
