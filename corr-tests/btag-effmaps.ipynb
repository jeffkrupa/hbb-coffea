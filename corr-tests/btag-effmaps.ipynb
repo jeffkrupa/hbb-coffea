{
 "cells": [
  {
   "cell_type": "code",
   "execution_count": 12,
   "metadata": {},
   "outputs": [],
   "source": [
    "import os\n",
    "import uproot\n",
    "import numpy as np\n",
    "from coffea import processor, util, hist\n",
    "from coffea.lookup_tools.dense_lookup import dense_lookup\n",
    "\n",
    "import matplotlib.pyplot as plt"
   ]
  },
  {
   "cell_type": "code",
   "execution_count": 2,
   "metadata": {},
   "outputs": [],
   "source": [
    "year='2018'\n",
    "tagger = 'deepJet'\n",
    "wp = 'M'"
   ]
  },
  {
   "cell_type": "code",
   "execution_count": 3,
   "metadata": {},
   "outputs": [],
   "source": [
    "efflookup = util.load('../boostedhiggs/data/btageff_'+tagger+'_'+wp+'_'+year+'.coffea')"
   ]
  },
  {
   "cell_type": "code",
   "execution_count": 7,
   "metadata": {},
   "outputs": [
    {
     "data": {
      "text/plain": [
       "3 dimensional histogram with axes:\n",
       "\t1: [0. 4. 5.]\n",
       "\t2: [ 40.  53.  66.  79.  92. 105. 118. 131. 144. 157. 170. 183. 196. 209.\n",
       " 222. 235. 248. 261. 274. 287. 300.]\n",
       "\t3: [0.    0.625 1.25  1.875 2.5  ]"
      ]
     },
     "execution_count": 7,
     "metadata": {},
     "output_type": "execute_result"
    }
   ],
   "source": [
    "efflookup"
   ]
  },
  {
   "cell_type": "code",
   "execution_count": 40,
   "metadata": {},
   "outputs": [
    {
     "data": {
      "text/plain": [
       "Text(0.5, 0.98, 'Light')"
      ]
     },
     "execution_count": 40,
     "metadata": {},
     "output_type": "execute_result"
    },
    {
     "data": {
      "image/png": "[encoded data removed]",
      "text/plain": [
       "<Figure size 432x288 with 2 Axes>"
      ]
     },
     "metadata": {
      "needs_background": "light"
     },
     "output_type": "display_data"
    }
   ],
   "source": [
    "xbins = [40, 53, 66, 79, 92, 105, 118, 131, 144, 157, 170, 183, 196, 209, 222, 235, 248, 261, 274, 287, 300]\n",
    "ybins = [0, 0.625, 1.25, 1.875, 2.5  ]\n",
    "\n",
    "X, Y = np.meshgrid(xbins[:-1],ybins[:-1])\n",
    "w = np.array([[efflookup(0,x,y) for x in xbins[:-1]] for y in ybins[:-1]])\n",
    "\n",
    "plt.hist2d(x=X.flatten(),y=Y.flatten(),weights=w.flatten(),bins=[xbins,ybins])\n",
    "plt.colorbar()\n",
    "plt.ylabel('eta')\n",
    "plt.xlabel('pt')\n",
    "plt.suptitle('Light')"
   ]
  },
  {
   "cell_type": "code",
   "execution_count": 39,
   "metadata": {},
   "outputs": [
    {
     "data": {
      "text/plain": [
       "Text(0.5, 0.98, 'BC')"
      ]
     },
     "execution_count": 39,
     "metadata": {},
     "output_type": "execute_result"
    },
    {
     "data": {
      "image/png": "[encoded data removed]",
      "text/plain": [
       "<Figure size 432x288 with 2 Axes>"
      ]
     },
     "metadata": {
      "needs_background": "light"
     },
     "output_type": "display_data"
    }
   ],
   "source": [
    "xbins = [40, 53, 66, 79, 92, 105, 118, 131, 144, 157, 170, 183, 196, 209, 222, 235, 248, 261, 274, 287, 300]\n",
    "ybins = [0, 0.625, 1.25, 1.875, 2.5  ]\n",
    "\n",
    "X, Y = np.meshgrid(xbins[:-1],ybins[:-1])\n",
    "w = np.array([[efflookup(4,x,y) for x in xbins[:-1]] for y in ybins[:-1]])\n",
    "\n",
    "plt.hist2d(x=X.flatten(),y=Y.flatten(),weights=w.flatten(),bins=[xbins,ybins])\n",
    "plt.colorbar()\n",
    "plt.ylabel('eta')\n",
    "plt.xlabel('pt')\n",
    "plt.suptitle('BC')"
   ]
  },
  {
   "cell_type": "code",
   "execution_count": null,
   "metadata": {},
   "outputs": [],
   "source": []
  }
 ],
 "metadata": {
  "kernelspec": {
   "display_name": "Python 3 (ipykernel)",
   "language": "python",
   "name": "python3"
  },
  "language_info": {
   "codemirror_mode": {
    "name": "ipython",
    "version": 3
   },
   "file_extension": ".py",
   "mimetype": "text/x-python",
   "name": "python",
   "nbconvert_exporter": "python",
   "pygments_lexer": "ipython3",
   "version": "3.8.13"
  }
 },
 "nbformat": 4,
 "nbformat_minor": 2
}
