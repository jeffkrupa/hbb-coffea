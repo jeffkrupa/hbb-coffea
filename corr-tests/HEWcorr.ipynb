{
 "cells": [
  {
   "cell_type": "code",
   "execution_count": 1,
   "id": "adopted-thousand",
   "metadata": {},
   "outputs": [],
   "source": [
    "from coffea.nanoevents import NanoEventsFactory\n",
    "import awkward as ak\n",
    "import numpy as np\n",
    "import hist\n",
    "import pandas as pd\n",
    "import uproot\n",
    "import json\n",
    "import glob\n",
    "import matplotlib.pyplot as plt"
   ]
  },
  {
   "cell_type": "code",
   "execution_count": 2,
   "id": "aeac5a50",
   "metadata": {},
   "outputs": [],
   "source": [
    "from correctionlib.schemav2 import CorrectionSet, Correction, Variable\n",
    "from correctionlib.convert import from_histogram\n",
    "import correctionlib\n",
    "\n",
    "def evaluator(corr):\n",
    "    cset = CorrectionSet(schema_version=2, corrections=[corr])\n",
    "    return np.vectorize(\n",
    "        correctionlib.CorrectionSet(cset)[corr.name].evaluate,\n",
    "    )\n",
    "\n",
    "vptvar = Variable(\n",
    "    name=\"hpt\",\n",
    "    type=\"real\",\n",
    "    description=\"Generated Higgs boson pT\"\n",
    ")"
   ]
  },
  {
   "cell_type": "code",
   "execution_count": 3,
   "id": "54c6931e",
   "metadata": {},
   "outputs": [],
   "source": [
    "# https://arxiv.org/pdf/2005.07762.pdf\n",
    "# Inclusive pT bins\n",
    "theory_xs = {}\n",
    "xs_ewkcorr = {}\n",
    "\n",
    "ptmin = np.array([400,450,500,550,600,650,700,750,800,1200])\n",
    "\n",
    "theory_xs['VBF'] = np.array([14.23,8.06,4.75,2.90,1.82,1.17,0.77,0.51,0.35])\n",
    "xs_ewkcorr['VBF'] = np.array([-17.80,-19.43,-21.05,-22.34,-23.73,-25.03,-26.29,-27.35,-28.42])*0.01\n",
    "\n",
    "theory_xs['VH'] = np.array([11.16,6.87,4.39,2.87,1.91,1.30,0.90,0.62,0.44])\n",
    "xs_ewkcorr['VH'] = np.array([-19.05,-20.83,-22.50,-24.07,-25.56,-26.98,-28.30,-29.60,-30.83])*0.01\n",
    "\n",
    "theory_xs['ttH'] = np.array([6.89,4.24,2.66,1.76,1.11,0.72,0.47,0.32,0.22])\n",
    "xs_ewkcorr['ttH'] = np.array([-6.95,-7.75,-8.49,-9.11,-9.91,-10.67,-11.37,-11.94,-12.51])*0.01"
   ]
  },
  {
   "cell_type": "code",
   "execution_count": 5,
   "id": "639d56dc",
   "metadata": {},
   "outputs": [],
   "source": [
    "# apply the EW corrections\n",
    "def ew_xs(xs,corr):\n",
    "    return np.multiply(xs,1+corr)\n",
    "\n",
    "# Make the bins exclusive\n",
    "def make_excl(th):\n",
    "    excl = -1*np.diff(th)\n",
    "    return np.append(excl,[th[-1]])"
   ]
  },
  {
   "cell_type": "code",
   "execution_count": 6,
   "id": "51335812",
   "metadata": {},
   "outputs": [],
   "source": [
    "def binning(idx, shift):\n",
    "    epsilon = np.zeros(113)\n",
    "    epsilon[idx] = shift\n",
    "    return {\n",
    "        \"nodetype\": \"binning\",\n",
    "        \"input\": \"vpt\",\n",
    "        \"edges\": list(vptproc.edges),\n",
    "        \"content\": list(evj_qcd(epsilon) / den),\n",
    "        \"flow\": \"clamp\",\n",
    "    }"
   ]
  },
  {
   "cell_type": "code",
   "execution_count": 7,
   "id": "d307f2e9",
   "metadata": {},
   "outputs": [
    {
     "name": "stdout",
     "output_type": "stream",
     "text": [
      "Without EW corr [6.17 3.31 1.85 1.08 0.65 0.4  0.26 0.16 0.35]\n",
      "With EW corr [5.203118 2.743817 1.497985 0.864026 0.510965 0.309582 0.197052 0.119985\n",
      " 0.25053 ]\n",
      "Weights [0.84329303 0.82894773 0.80972162 0.80002407 0.7861     0.773955\n",
      " 0.75789231 0.74990625 0.7158    ]\n"
     ]
    },
    {
     "data": {
      "image/png": "[encoded data removed]",
      "text/plain": [
       "<Figure size 432x288 with 1 Axes>"
      ]
     },
     "metadata": {
      "needs_background": "light"
     },
     "output_type": "display_data"
    }
   ],
   "source": [
    "p = 'VBF'\n",
    "noewcorr = make_excl(theory_xs[p])\n",
    "yesewcorr = make_excl(ew_xs(theory_xs[p],xs_ewkcorr[p]))\n",
    "print('Without EW corr',noewcorr)\n",
    "print('With EW corr',yesewcorr)\n",
    "\n",
    "weights = np.divide(yesewcorr,noewcorr)\n",
    "print('Weights',weights)\n",
    "\n",
    "VBF_EW = Correction(\n",
    "    name=\"VBF_EW\",\n",
    "    version=1,\n",
    "    description=\"Electroweak correction to VBF Higgs production\",\n",
    "    inputs=[vptvar],\n",
    "    output=Variable(name=\"out\", type=\"real\", description=\"Multiplicative k-factor\"),\n",
    "    data={\n",
    "        \"nodetype\": \"binning\",\n",
    "        \"input\": \"hpt\",\n",
    "        \"edges\": list(ptmin),\n",
    "        \"content\": list(weights),\n",
    "        \"flow\": \"clamp\",\n",
    "    },\n",
    ")\n",
    "\n",
    "plt.hist(x=ptmin[:-1],weights=noewcorr,bins=ptmin,histtype='step',label='no EW corrections')\n",
    "plt.hist(x=ptmin[:-1],weights=yesewcorr,bins=ptmin,histtype='step',label='w EW corrections')\n",
    "plt.legend(frameon=False)\n",
    "plt.suptitle(p);\n",
    "plt.xlabel(r'Truth Higgs $p_{T}$ [GeV]');\n",
    "plt.ylabel('cross section [fb]');"
   ]
  },
  {
   "cell_type": "code",
   "execution_count": 8,
   "id": "2ed90508",
   "metadata": {},
   "outputs": [
    {
     "name": "stdout",
     "output_type": "stream",
     "text": [
      "Without EW corr [4.29 2.48 1.52 0.96 0.61 0.4  0.28 0.18 0.44]\n",
      "With EW corr [3.595041 2.036729 1.223059 0.757387 0.472544 0.30396  0.20882  0.132132\n",
      " 0.304348]\n"
     ]
    },
    {
     "data": {
      "text/plain": [
       "Text(0, 0.5, 'cross section [fb]')"
      ]
     },
     "execution_count": 8,
     "metadata": {},
     "output_type": "execute_result"
    },
    {
     "data": {
      "image/png": "[encoded data removed]",
      "text/plain": [
       "<Figure size 432x288 with 1 Axes>"
      ]
     },
     "metadata": {
      "needs_background": "light"
     },
     "output_type": "display_data"
    }
   ],
   "source": [
    "p = 'VH'\n",
    "noewcorr = make_excl(theory_xs[p])\n",
    "yesewcorr = make_excl(ew_xs(theory_xs[p],xs_ewkcorr[p]))\n",
    "print('Without EW corr',noewcorr)\n",
    "print('With EW corr',yesewcorr)\n",
    "\n",
    "VH_EW = Correction(\n",
    "    name=\"VH_EW\",\n",
    "    version=1,\n",
    "    description=\"Electroweak correction to VH Higgs production\",\n",
    "    inputs=[vptvar],\n",
    "    output=Variable(name=\"out\", type=\"real\", description=\"Multiplicative k-factor\"),\n",
    "    data={\n",
    "        \"nodetype\": \"binning\",\n",
    "        \"input\": \"hpt\",\n",
    "        \"edges\": list(ptmin),\n",
    "        \"content\": list(weights),\n",
    "        \"flow\": \"clamp\",\n",
    "    },\n",
    ")\n",
    "\n",
    "plt.hist(x=ptmin[:-1],weights=noewcorr,bins=ptmin,histtype='step',label='no EW corrections')\n",
    "plt.hist(x=ptmin[:-1],weights=yesewcorr,bins=ptmin,histtype='step',label='w EW corrections')\n",
    "plt.legend(frameon=False)\n",
    "plt.suptitle(p)\n",
    "plt.xlabel(r'Truth Higgs $p_{T}$ [GeV]')\n",
    "plt.ylabel('cross section [fb]')"
   ]
  },
  {
   "cell_type": "code",
   "execution_count": 9,
   "id": "b2aef7a5",
   "metadata": {},
   "outputs": [
    {
     "name": "stdout",
     "output_type": "stream",
     "text": [
      "Without EW corr [2.65 1.58 0.9  0.65 0.39 0.25 0.15 0.1  0.22]\n",
      "With EW corr [2.499745 1.477234 0.834502 0.599665 0.356823 0.226615 0.134769 0.089314\n",
      " 0.192478]\n"
     ]
    },
    {
     "data": {
      "text/plain": [
       "Text(0, 0.5, 'cross section [fb]')"
      ]
     },
     "execution_count": 9,
     "metadata": {},
     "output_type": "execute_result"
    },
    {
     "data": {
      "image/png": "[encoded data removed]",
      "text/plain": [
       "<Figure size 432x288 with 1 Axes>"
      ]
     },
     "metadata": {
      "needs_background": "light"
     },
     "output_type": "display_data"
    }
   ],
   "source": [
    "p = 'ttH'\n",
    "noewcorr = make_excl(theory_xs[p])\n",
    "yesewcorr = make_excl(ew_xs(theory_xs[p],xs_ewkcorr[p]))\n",
    "print('Without EW corr',noewcorr)\n",
    "print('With EW corr',yesewcorr)\n",
    "\n",
    "ttH_EW = Correction(\n",
    "    name=\"ttH_EW\",\n",
    "    version=1,\n",
    "    description=\"Electroweak correction to ttH Higgs production\",\n",
    "    inputs=[vptvar],\n",
    "    output=Variable(name=\"out\", type=\"real\", description=\"Multiplicative k-factor\"),\n",
    "    data={\n",
    "        \"nodetype\": \"binning\",\n",
    "        \"input\": \"hpt\",\n",
    "        \"edges\": list(ptmin),\n",
    "        \"content\": list(weights),\n",
    "        \"flow\": \"clamp\",\n",
    "    },\n",
    ")\n",
    "\n",
    "plt.hist(x=ptmin[:-1],weights=noewcorr,bins=ptmin,histtype='step',label='no EW corrections')\n",
    "plt.hist(x=ptmin[:-1],weights=yesewcorr,bins=ptmin,histtype='step',label='w EW corrections')\n",
    "plt.legend(frameon=False)\n",
    "plt.suptitle(p)\n",
    "plt.xlabel(r'Truth Higgs $p_{T}$ [GeV]')\n",
    "plt.ylabel('cross section [fb]')"
   ]
  },
  {
   "cell_type": "code",
   "execution_count": 10,
   "id": "af852b00",
   "metadata": {},
   "outputs": [
    {
     "data": {
      "text/html": [
       "<pre style=\"white-space:pre;overflow-x:auto;line-height:normal;font-family:Menlo,'DejaVu Sans Mono',consolas,'Courier New',monospace\"><span style=\"font-weight: bold\">CorrectionSet</span> (<span style=\"font-style: italic\">schema v2</span>)\n",
       "<span style=\"font-style: italic\">No description</span>\n",
       "📂\n",
       "├── 📈 <span style=\"font-weight: bold\">VBF_EW</span> (v1)\n",
       "│   Electroweak correction to VBF Higgs production\n",
       "│   Node counts: <span style=\"font-weight: bold\">Binning</span>: 1\n",
       "│   ╭────────────── ▶ input ──────────────╮\n",
       "│   │ <span style=\"font-weight: bold\">hpt</span> (real)                          │\n",
       "│   │ Generated Higgs boson pT            │\n",
       "│   │ Range: [400.0, 1200.0), overflow ok │\n",
       "│   ╰─────────────────────────────────────╯\n",
       "│   ╭─────── ◀ output ────────╮\n",
       "│   │ <span style=\"font-weight: bold\">out</span> (real)              │\n",
       "│   │ Multiplicative k-factor │\n",
       "│   ╰─────────────────────────╯\n",
       "├── 📈 <span style=\"font-weight: bold\">VH_EW</span> (v1)\n",
       "│   Electroweak correction to VH Higgs production\n",
       "│   Node counts: <span style=\"font-weight: bold\">Binning</span>: 1\n",
       "│   ╭────────────── ▶ input ──────────────╮\n",
       "│   │ <span style=\"font-weight: bold\">hpt</span> (real)                          │\n",
       "│   │ Generated Higgs boson pT            │\n",
       "│   │ Range: [400.0, 1200.0), overflow ok │\n",
       "│   ╰─────────────────────────────────────╯\n",
       "│   ╭─────── ◀ output ────────╮\n",
       "│   │ <span style=\"font-weight: bold\">out</span> (real)              │\n",
       "│   │ Multiplicative k-factor │\n",
       "│   ╰─────────────────────────╯\n",
       "└── 📈 <span style=\"font-weight: bold\">ttH_EW</span> (v1)\n",
       "    Electroweak correction to ttH Higgs production\n",
       "    Node counts: <span style=\"font-weight: bold\">Binning</span>: 1\n",
       "    ╭────────────── ▶ input ──────────────╮\n",
       "    │ <span style=\"font-weight: bold\">hpt</span> (real)                          │\n",
       "    │ Generated Higgs boson pT            │\n",
       "    │ Range: [400.0, 1200.0), overflow ok │\n",
       "    ╰─────────────────────────────────────╯\n",
       "    ╭─────── ◀ output ────────╮\n",
       "    │ <span style=\"font-weight: bold\">out</span> (real)              │\n",
       "    │ Multiplicative k-factor │\n",
       "    ╰─────────────────────────╯\n",
       "</pre>\n"
      ],
      "text/plain": [
       "\u001b[1mCorrectionSet\u001b[0m (\u001b[3mschema v2\u001b[0m)\n",
       "\u001b[3mNo description\u001b[0m\n",
       "📂\n",
       "├── 📈 \u001b[1mVBF_EW\u001b[0m (v1)\n",
       "│   Electroweak correction to VBF Higgs production\n",
       "│   Node counts: \u001b[1mBinning\u001b[0m: 1\n",
       "│   ╭────────────── ▶ input ──────────────╮\n",
       "│   │ \u001b[1mhpt\u001b[0m (real)                          │\n",
       "│   │ Generated Higgs boson pT            │\n",
       "│   │ Range: [400.0, 1200.0), overflow ok │\n",
       "│   ╰─────────────────────────────────────╯\n",
       "│   ╭─────── ◀ output ────────╮\n",
       "│   │ \u001b[1mout\u001b[0m (real)              │\n",
       "│   │ Multiplicative k-factor │\n",
       "│   ╰─────────────────────────╯\n",
       "├── 📈 \u001b[1mVH_EW\u001b[0m (v1)\n",
       "│   Electroweak correction to VH Higgs production\n",
       "│   Node counts: \u001b[1mBinning\u001b[0m: 1\n",
       "│   ╭────────────── ▶ input ──────────────╮\n",
       "│   │ \u001b[1mhpt\u001b[0m (real)                          │\n",
       "│   │ Generated Higgs boson pT            │\n",
       "│   │ Range: [400.0, 1200.0), overflow ok │\n",
       "│   ╰─────────────────────────────────────╯\n",
       "│   ╭─────── ◀ output ────────╮\n",
       "│   │ \u001b[1mout\u001b[0m (real)              │\n",
       "│   │ Multiplicative k-factor │\n",
       "│   ╰─────────────────────────╯\n",
       "└── 📈 \u001b[1mttH_EW\u001b[0m (v1)\n",
       "    Electroweak correction to ttH Higgs production\n",
       "    Node counts: \u001b[1mBinning\u001b[0m: 1\n",
       "    ╭────────────── ▶ input ──────────────╮\n",
       "    │ \u001b[1mhpt\u001b[0m (real)                          │\n",
       "    │ Generated Higgs boson pT            │\n",
       "    │ Range: [400.0, 1200.0), overflow ok │\n",
       "    ╰─────────────────────────────────────╯\n",
       "    ╭─────── ◀ output ────────╮\n",
       "    │ \u001b[1mout\u001b[0m (real)              │\n",
       "    │ Multiplicative k-factor │\n",
       "    ╰─────────────────────────╯\n"
      ]
     },
     "metadata": {},
     "output_type": "display_data"
    }
   ],
   "source": [
    "cset = CorrectionSet(\n",
    "    schema_version=2,\n",
    "    corrections=[VBF_EW, VH_EW, ttH_EW]\n",
    ")\n",
    "\n",
    "import rich\n",
    "\n",
    "rich.print(cset)\n",
    "with open(\"EWHiggsCorrections.json\", \"w\") as fout:\n",
    "    fout.write(cset.json(exclude_unset=True))"
   ]
  },
  {
   "cell_type": "code",
   "execution_count": null,
   "id": "6c6999fd",
   "metadata": {},
   "outputs": [],
   "source": []
  }
 ],
 "metadata": {
  "celltoolbar": "Raw Cell Format",
  "kernelspec": {
   "display_name": "Python 3 (ipykernel)",
   "language": "python",
   "name": "python3"
  },
  "language_info": {
   "codemirror_mode": {
    "name": "ipython",
    "version": 3
   },
   "file_extension": ".py",
   "mimetype": "text/x-python",
   "name": "python",
   "nbconvert_exporter": "python",
   "pygments_lexer": "ipython3",
   "version": "3.8.13"
  }
 },
 "nbformat": 4,
 "nbformat_minor": 5
}
