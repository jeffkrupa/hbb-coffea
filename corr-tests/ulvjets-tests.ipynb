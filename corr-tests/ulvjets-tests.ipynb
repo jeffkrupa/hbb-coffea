{
 "cells": [
  {
   "cell_type": "code",
   "execution_count": 1,
   "id": "143010d4",
   "metadata": {},
   "outputs": [],
   "source": [
    "import numpy as np\n",
    "import awkward as ak\n",
    "import gzip\n",
    "import pickle\n",
    "import cloudpickle\n",
    "import importlib.resources\n",
    "import correctionlib\n",
    "from coffea.lookup_tools.lookup_base import lookup_base\n",
    "from coffea.lookup_tools.dense_lookup import dense_lookup\n",
    "from coffea import lookup_tools\n",
    "from coffea import util"
   ]
  },
  {
   "cell_type": "code",
   "execution_count": 2,
   "id": "d16908c9",
   "metadata": {},
   "outputs": [],
   "source": [
    "with importlib.resources.path(\"boostedhiggs.data\", \"ULvjets_corrections.json\") as filename:\n",
    "    vjets_kfactors = correctionlib.CorrectionSet.from_file(str(filename))"
   ]
  },
  {
   "cell_type": "code",
   "execution_count": 3,
   "id": "fe13378c",
   "metadata": {},
   "outputs": [
    {
     "data": {
      "text/plain": [
       "<correctionlib.highlevel.CorrectionSet at 0x7f74ff7d1c40>"
      ]
     },
     "execution_count": 3,
     "metadata": {},
     "output_type": "execute_result"
    }
   ],
   "source": [
    "vjets_kfactors"
   ]
  },
  {
   "cell_type": "code",
   "execution_count": 4,
   "id": "fafd4439",
   "metadata": {},
   "outputs": [
    {
     "name": "stdout",
     "output_type": "stream",
     "text": [
      "['ULW_MLMtoFXFX', 'ULW_MLMtoNNLOQCD', 'ULZ_MLMtoFXFX', 'ULZ_MLMtoNNLOQCD', 'W_FixedOrderComponent', 'Z_FixedOrderComponent']\n"
     ]
    }
   ],
   "source": [
    "print([c for c in vjets_kfactors])"
   ]
  }
 ],
 "metadata": {
  "kernelspec": {
   "display_name": "Python 3 (ipykernel)",
   "language": "python",
   "name": "python3"
  },
  "language_info": {
   "codemirror_mode": {
    "name": "ipython",
    "version": 3
   },
   "file_extension": ".py",
   "mimetype": "text/x-python",
   "name": "python",
   "nbconvert_exporter": "python",
   "pygments_lexer": "ipython3",
   "version": "3.8.13"
  }
 },
 "nbformat": 4,
 "nbformat_minor": 5
}
