{
 "cells": [
  {
   "cell_type": "code",
   "execution_count": 78,
   "id": "11eb135e",
   "metadata": {},
   "outputs": [],
   "source": [
    "import os, subprocess\n",
    "import json\n",
    "import uproot3\n",
    "import awkward as ak\n",
    "import numpy as np\n",
    "from coffea import processor, util, hist\n",
    "\n",
    "import matplotlib.pyplot as plt\n",
    "\n",
    "import warnings\n",
    "warnings.filterwarnings('ignore')"
   ]
  },
  {
   "cell_type": "code",
   "execution_count": 79,
   "id": "56fc63eb",
   "metadata": {},
   "outputs": [],
   "source": [
    "with open('xsec.json') as f:\n",
    "  xs = json.load(f)\n",
    "\n",
    "with open('pmap.json') as f:\n",
    "  pmap = json.load(f)"
   ]
  },
  {
   "cell_type": "code",
   "execution_count": 80,
   "id": "d96f0e51",
   "metadata": {},
   "outputs": [
    {
     "data": {
      "text/plain": [
       "{'sumw': defaultdict_accumulator(float,\n",
       "                         {'GluGluHToBB_M-125_13TeV_powheg_MINLO_NNLOPS_pythia8': 144239460.0,\n",
       "                          'VBFHToBB_M-125_13TeV_powheg_pythia8_weightfix': 19299380.8125,\n",
       "                          'ZH_HToBB_ZToNuNu_M125_13TeV_powheg_pythia8': 403494.7841796875,\n",
       "                          'WplusH_HToBB_WToQQ_M125_13TeV_powheg_pythia8': 295614.64453125,\n",
       "                          'ttHTobb_M125_TuneCP5_13TeV-powheg-pythia8': 4216319.9453125,\n",
       "                          'ggZH_HToBB_ZToLL_M125_13TeV_powheg_pythia8': 17607.899536132812,\n",
       "                          'ZH_HToBB_ZToLL_M125_13TeV_powheg_pythia8': 382052.77392578125,\n",
       "                          'WplusH_HToBB_WToLNu_M125_13TeV_powheg_pythia8': 692050.4453125,\n",
       "                          'WminusH_HToBB_WToLNu_M125_13TeV_powheg_pythia8': 419587.357421875,\n",
       "                          'WminusH_HToBB_WToQQ_M125_13TeV_powheg_pythia8': 177231.81640625,\n",
       "                          'GluGluHToBB_M125_TuneCP5_13TeV-powheg-pythia8': 206514444.75,\n",
       "                          'ggZH_HToBB_ZToNuNu_M125_13TeV_powheg_pythia8': 72191.80773925781,\n",
       "                          'ggZH_HToBB_ZToQQ_M125_13TeV_powheg_pythia8': 7788.81689453125,\n",
       "                          'ZH_HToBB_ZToQQ_M125_13TeV_powheg_pythia8': 270592.02734375}),\n",
       " 'truthpt': <Hist (dataset,ptH) instance at 0x7f4a344bb160>,\n",
       " 'weightStats': {}}"
      ]
     },
     "execution_count": 80,
     "metadata": {},
     "output_type": "execute_result"
    }
   ],
   "source": [
    "year='2017'\n",
    "\n",
    "# Read the histogram from the pickle file\n",
    "outsum = util.load(\"outfiles/\"+year+\"_dask_higgs.coffea\")\n",
    "\n",
    "outsum"
   ]
  },
  {
   "cell_type": "code",
   "execution_count": 81,
   "id": "375a9cdc",
   "metadata": {},
   "outputs": [],
   "source": [
    "scale_lumi = {k: 1000 / w for k, w in outsum['sumw'].items()}\n",
    "outsum['truthpt'].scale(scale_lumi, 'dataset')\n",
    "pthist = outsum['truthpt'].group('dataset', hist.Cat('process', 'Process'), pmap)"
   ]
  },
  {
   "cell_type": "code",
   "execution_count": 82,
   "id": "7e0a611b",
   "metadata": {},
   "outputs": [],
   "source": [
    "ptbins = np.linspace(400,800,9)\n",
    "\n",
    "mc_ggf = np.array([pthist.integrate('process','ggF').integrate('ptH',int_range=slice(pt,13000)).values()[()] for pt in ptbins])\n",
    "\n",
    "\n",
    "mc_vbf = np.array([pthist.integrate('process','VBF').integrate('ptH',int_range=slice(pt,13000)).values()[()] for pt in ptbins])\n",
    "mc_vh  = np.array([pthist.integrate('process',['WH','ZH']).integrate('ptH',int_range=slice(pt,13000)).values()[()] for pt in ptbins])\n",
    "mc_tth = np.array([pthist.integrate('process','ttH').integrate('ptH',int_range=slice(pt,13000)).values()[()] for pt in ptbins])"
   ]
  },
  {
   "cell_type": "code",
   "execution_count": 83,
   "id": "2405ea65",
   "metadata": {},
   "outputs": [],
   "source": [
    "th_ggf = np.array([33.10,18.08,10.17,5.87,3.48,2.13,1.32,0.84,0.54])\n",
    "th_ggf_unc_up = np.array([10.89,10.78,10.67,10.54,10.35,10.23,10.03,10.05,9.91])*0.01\n",
    "th_ggf_unc_do = np.array([12.91,12.79,12.74,12.60,12.49,12.45,12.32,12.31,12.24])*0.01\n",
    "\n",
    "th_ggf_unc_ew = np.zeros(9)"
   ]
  },
  {
   "cell_type": "code",
   "execution_count": 84,
   "id": "963d3920",
   "metadata": {},
   "outputs": [],
   "source": [
    "th_vbf = np.array([14.23,8.06,4.75,2.90,1.82,1.17,0.77,0.51,0.35])\n",
    "th_vbf_unc_up = np.array([0.15,0.23,0.33,0.34,0.41,0.49,0.57,0.69,0.71])*0.01\n",
    "th_vbf_unc_do = np.array([0.19,0.23,0.29,0.36,0.39,0.39,0.45,0.56,0.60])*0.01\n",
    "th_vbf_unc_ew = np.array([17.80,19.43,21.05,22.34,23.73,25.03,26.29,27.35,28.42])*0.01"
   ]
  },
  {
   "cell_type": "code",
   "execution_count": 85,
   "id": "ce77ec4a",
   "metadata": {},
   "outputs": [],
   "source": [
    "th_vh = np.array([11.16,6.87,4.39,2.87,1.91,1.30,0.90,0.62,0.44])\n",
    "th_vh_unc_up = np.array([4.12,4.60,4.43,4.44,5.22,4.67,4.15,55.15,5.64])*0.01\n",
    "th_vh_unc_do = np.array([3.68,3.49,4.04,3.74,4.71,4.28,5.40,4.66,4.13])*0.01\n",
    "th_vh_unc_ew = np.array([19.05,20.83,22.50,24.07,25.56,26.98,28.30,29.60,30.83])*0.01"
   ]
  },
  {
   "cell_type": "code",
   "execution_count": 86,
   "id": "9a544706",
   "metadata": {},
   "outputs": [],
   "source": [
    "th_tth = np.array([6.89,4.24,2.66,1.76,1.11,0.72,0.47,0.32,0.22])\n",
    "th_tth_unc_up = np.array([12.62,12.84,12.85,14.23,12.99,12.60,11.42,11.53,11.42])*0.01\n",
    "th_tth_unc_do = np.array([12.97,13.15,13.22,13.93,13.40,13.26,12.74,12.84,13.30])*0.01\n",
    "th_tth_unc_ew = np.array([6.95,7.75,8.49,9.11,9.91,10.67,11.37,11.94,12.51])*0.01"
   ]
  },
  {
   "cell_type": "code",
   "execution_count": 87,
   "id": "568d5aa0",
   "metadata": {},
   "outputs": [],
   "source": [
    "def process_overlay(mc,th,th_unc_up,th_unc_do,th_unc_ew,name):\n",
    "    mc_norm = mc/mc[0]*th[0]\n",
    "    th_norm = th\n",
    "    \n",
    "    yerr = [np.multiply(th_norm,th_unc_do),np.multiply(th_norm,th_unc_up)]\n",
    "    yerr_ew = [np.multiply(th_norm,th_unc_ew),np.zeros(9)]\n",
    "    \n",
    "    plt.hist(ptbins,weights=mc_norm,bins=np.linspace(400,850,10),histtype='step',color='deepskyblue',label=name+' MC sample')\n",
    "    plt.hist(ptbins,weights=th_norm,bins=np.linspace(400,850,10),histtype='step',color='black',label=name+' theory prediction')\n",
    "    plt.errorbar(x=ptbins+30,y=th_norm,yerr=yerr_ew,marker=\"\",linestyle=\"\",color='red',label='EW corrections')\n",
    "    \n",
    "    plt.ylabel(\"Cross section [fb]\")\n",
    "    plt.xlabel(\"$p_T$ cut value [GeV]\")\n",
    "    plt.legend()\n",
    "    \n",
    "    plt.savefig(year+\"_\"+name+\".pdf\")\n",
    "    plt.savefig(year+\"_\"+name+\".png\")\n",
    "    "
   ]
  },
  {
   "cell_type": "code",
   "execution_count": 88,
   "id": "3c40f0bb",
   "metadata": {},
   "outputs": [
    {
     "data": {
      "image/png": "[encoded data removed]",
      "text/plain": [
       "<Figure size 432x288 with 1 Axes>"
      ]
     },
     "metadata": {
      "needs_background": "light"
     },
     "output_type": "display_data"
    }
   ],
   "source": [
    "process_overlay(mc_ggf,th_ggf,th_ggf_unc_up,th_ggf_unc_do,th_ggf_unc_ew,'ggF')"
   ]
  },
  {
   "cell_type": "code",
   "execution_count": 89,
   "id": "a0b5effd",
   "metadata": {},
   "outputs": [
    {
     "data": {
      "image/png": "[encoded data removed]",
      "text/plain": [
       "<Figure size 432x288 with 1 Axes>"
      ]
     },
     "metadata": {
      "needs_background": "light"
     },
     "output_type": "display_data"
    }
   ],
   "source": [
    "process_overlay(mc_vbf,th_vbf,th_vbf_unc_up,th_vbf_unc_do,th_vbf_unc_ew,'VBF')"
   ]
  },
  {
   "cell_type": "code",
   "execution_count": 90,
   "id": "db1b2d8f",
   "metadata": {},
   "outputs": [
    {
     "data": {
      "image/png": "[encoded data removed]",
      "text/plain": [
       "<Figure size 432x288 with 1 Axes>"
      ]
     },
     "metadata": {
      "needs_background": "light"
     },
     "output_type": "display_data"
    }
   ],
   "source": [
    "process_overlay(mc_vh,th_vh,th_vh_unc_up,th_vh_unc_do,th_vh_unc_ew,'VH')"
   ]
  },
  {
   "cell_type": "code",
   "execution_count": 91,
   "id": "4a130b3a",
   "metadata": {},
   "outputs": [
    {
     "data": {
      "image/png": "[encoded data removed]",
      "text/plain": [
       "<Figure size 432x288 with 1 Axes>"
      ]
     },
     "metadata": {
      "needs_background": "light"
     },
     "output_type": "display_data"
    }
   ],
   "source": [
    "process_overlay(mc_tth,th_tth,th_tth_unc_up,th_tth_unc_do,th_tth_unc_ew,'ttH')"
   ]
  },
  {
   "cell_type": "code",
   "execution_count": null,
   "id": "2eed5193",
   "metadata": {},
   "outputs": [],
   "source": []
  }
 ],
 "metadata": {
  "kernelspec": {
   "display_name": "Python 3 (ipykernel)",
   "language": "python",
   "name": "python3"
  },
  "language_info": {
   "codemirror_mode": {
    "name": "ipython",
    "version": 3
   },
   "file_extension": ".py",
   "mimetype": "text/x-python",
   "name": "python",
   "nbconvert_exporter": "python",
   "pygments_lexer": "ipython3",
   "version": "3.8.13"
  }
 },
 "nbformat": 4,
 "nbformat_minor": 5
}
