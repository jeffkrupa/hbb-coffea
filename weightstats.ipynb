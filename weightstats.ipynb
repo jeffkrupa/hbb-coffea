{
 "cells": [
  {
   "cell_type": "code",
   "execution_count": 1,
   "id": "bf4f7c28",
   "metadata": {},
   "outputs": [],
   "source": [
    "import os, sys\n",
    "import subprocess\n",
    "import json\n",
    "import uproot3\n",
    "import awkward as ak\n",
    "import numpy as np\n",
    "from coffea import processor, util, hist\n",
    "import pickle"
   ]
  },
  {
   "cell_type": "code",
   "execution_count": 2,
   "id": "7fa6861a",
   "metadata": {},
   "outputs": [],
   "source": [
    "year='2016APV'"
   ]
  },
  {
   "cell_type": "code",
   "execution_count": 3,
   "id": "41e8e31d",
   "metadata": {},
   "outputs": [
    {
     "name": "stdout",
     "output_type": "stream",
     "text": [
      "Loading outfiles/2016APV_dask_DYJetsToLL.coffea\n",
      "WeightStatistics(sumw=100131978.03084122, sumw2=100587873.64751951, minw=0.7398439931119639, maxw=3.4407114483701884, n=99917148)\n",
      "Loading outfiles/2016APV_dask_Diboson.coffea\n",
      "WeightStatistics(sumw=23115226.23830105, sumw2=23118131.190458383, minw=0.8178784915818808, maxw=2.3257086082756113, n=23115000)\n",
      "Loading outfiles/2016APV_dask_EWKV.coffea\n",
      "WeightStatistics(sumw=11229463.328406878, sumw2=11234753.582697004, minw=0.8042499032228863, maxw=2.8259100808126765, n=11231000)\n",
      "Loading outfiles/2016APV_dask_GluGluHToBB.coffea\n",
      "WeightStatistics(sumw=268756.9375345408, sumw2=268184.57340008183, minw=0.7334615983798822, maxw=2.724055786570322, n=270000)\n",
      "Loading outfiles/2016APV_dask_QCD.coffea\n",
      "WeightStatistics(sumw=253800343.09422612, sumw2=259784388.12245625, minw=0.9117524824791776, maxw=5.0, n=251399000)\n",
      "Loading outfiles/2016APV_dask_SingleTop.coffea\n",
      "WeightStatistics(sumw=160967252.12913182, sumw2=160958999.66392323, minw=0.6926675855788502, maxw=2.931032585557391, n=161003366)\n",
      "Loading outfiles/2016APV_dask_TTbar.coffea\n",
      "WeightStatistics(sumw=155196148.63122988, sumw2=155156990.91249704, minw=0.7570468189665638, maxw=2.8631125880926587, n=155308792)\n",
      "Loading outfiles/2016APV_dask_VBFHToBB.coffea\n",
      "WeightStatistics(sumw=6960265.216362895, sumw2=6959066.846689677, minw=0.8607413335487959, maxw=2.108171754103036, n=6962742)\n",
      "Loading outfiles/2016APV_dask_WHToBB.coffea\n",
      "WeightStatistics(sumw=5203808.420125416, sumw2=5204635.393160434, minw=0.8653481939847593, maxw=2.2037836885501196, n=5204178)\n",
      "Loading outfiles/2016APV_dask_WJetsToLNu.coffea\n",
      "WeightStatistics(sumw=49912543.65536374, sumw2=50074092.66379331, minw=0.6049503351646042, maxw=3.7773232218865123, n=49856114)\n",
      "Loading outfiles/2016APV_dask_WJetsToQQ.coffea\n",
      "WeightStatistics(sumw=20831009.401182197, sumw2=20844288.31117465, minw=0.7578723337079681, maxw=3.640564052859397, n=20885931)\n",
      "Loading outfiles/2016APV_dask_ZHToBB.coffea\n",
      "WeightStatistics(sumw=18461570.056419075, sumw2=18461561.512543425, minw=0.7464215614135749, maxw=2.8165897453534576, n=18470576)\n",
      "Loading outfiles/2016APV_dask_ZJetsToQQ.coffea\n",
      "WeightStatistics(sumw=17580025.85074837, sumw2=17583987.28412458, minw=0.7111255533364036, maxw=3.067714324631236, n=17622681)\n",
      "Loading outfiles/2016APV_dask_ttHToBB.coffea\n",
      "WeightStatistics(sumw=4603947.7239177795, sumw2=4593741.649048671, minw=0.7391197799199914, maxw=3.170340949102203, n=4620000)\n"
     ]
    }
   ],
   "source": [
    "indir = \"outfiles/\"\n",
    "infiles = subprocess.getoutput(\"ls \"+indir+year+\"_dask_*.coffea\").split()\n",
    "outsum = processor.dict_accumulator()\n",
    "\n",
    "for filename in infiles:\n",
    "    \n",
    "    if 'Data' in filename:\n",
    "        continue\n",
    "        \n",
    "    print(\"Loading \"+filename)\n",
    "\n",
    "    if os.path.isfile(filename):\n",
    "        out = util.load(filename)\n",
    "    else:\n",
    "        continue\n",
    "   \n",
    "    weightStats = out['weightStats']\n",
    "    if 'btagSF' in weightStats.keys():\n",
    "        print(weightStats['btagSF'])\n",
    "    else:\n",
    "        print(weightStats['btagLightSF'])"
   ]
  },
  {
   "cell_type": "code",
   "execution_count": 4,
   "id": "850745f6",
   "metadata": {},
   "outputs": [
    {
     "name": "stdout",
     "output_type": "stream",
     "text": [
      "Loading outfiles-tnp/2016APV_dask_DYJetsToLL.coffea\n",
      "WeightStatistics(sumw=100131978.03084122, sumw2=100587873.64751951, minw=0.7398439931119639, maxw=3.4407114483701884, n=99917148)\n",
      "Loading outfiles-tnp/2016APV_dask_Diboson.coffea\n",
      "WeightStatistics(sumw=23115226.23830105, sumw2=23118131.190458383, minw=0.8178784915818808, maxw=2.3257086082756113, n=23115000)\n",
      "Loading outfiles-tnp/2016APV_dask_EWKV.coffea\n",
      "WeightStatistics(sumw=11229463.328406878, sumw2=11234753.582697004, minw=0.8042499032228863, maxw=2.8259100808126765, n=11231000)\n",
      "Loading outfiles-tnp/2016APV_dask_SingleTop.coffea\n",
      "WeightStatistics(sumw=160967252.12913182, sumw2=160958999.66392323, minw=0.6926675855788502, maxw=2.931032585557391, n=161003366)\n",
      "Loading outfiles-tnp/2016APV_dask_TTbar.coffea\n",
      "WeightStatistics(sumw=155196148.63122988, sumw2=155156990.91249704, minw=0.7570468189665638, maxw=2.8631125880926587, n=155308792)\n",
      "Loading outfiles-tnp/2016APV_dask_WJetsToLNu.coffea\n",
      "WeightStatistics(sumw=49912543.65536374, sumw2=50074092.66379331, minw=0.6049503351646042, maxw=3.7773232218865123, n=49856114)\n",
      "Loading outfiles-tnp/2016APV_dask_WJetsToQQ.coffea\n",
      "WeightStatistics(sumw=20831009.401182197, sumw2=20844288.31117465, minw=0.7578723337079681, maxw=3.640564052859397, n=20885931)\n",
      "Loading outfiles-tnp/2016APV_dask_ZJetsToQQ.coffea\n",
      "WeightStatistics(sumw=17580025.85074837, sumw2=17583987.28412458, minw=0.7111255533364036, maxw=3.067714324631236, n=17622681)\n"
     ]
    }
   ],
   "source": [
    "indir = \"outfiles-tnp/\"\n",
    "infiles = subprocess.getoutput(\"ls \"+indir+year+\"_dask_*.coffea\").split()\n",
    "outsum = processor.dict_accumulator()\n",
    "\n",
    "for filename in infiles:\n",
    "    \n",
    "    if 'Data' in filename:\n",
    "        continue\n",
    "        \n",
    "    print(\"Loading \"+filename)\n",
    "\n",
    "    if os.path.isfile(filename):\n",
    "        out = util.load(filename)\n",
    "    else:\n",
    "        continue\n",
    "        \n",
    "    weightStats = out['weightStats']\n",
    "    if 'btagSF' in weightStats.keys():\n",
    "        print(weightStats['btagSF'])\n",
    "    else:\n",
    "        print(weightStats['btagLightSF'])"
   ]
  },
  {
   "cell_type": "code",
   "execution_count": 5,
   "id": "c7d75562",
   "metadata": {},
   "outputs": [
    {
     "name": "stdout",
     "output_type": "stream",
     "text": [
      "Loading outfiles-plots/2016APV_dask_DYJetsToLL.coffea\n",
      "WeightStatistics(sumw=100141092.2382158, sumw2=100605631.80143599, minw=0.923596238751596, maxw=3.4407114483701884, n=99917148)\n",
      "Loading outfiles-plots/2016APV_dask_Diboson.coffea\n",
      "WeightStatistics(sumw=23115352.991838012, sumw2=23118374.389241133, minw=0.9442157177323701, maxw=2.3257086082756113, n=23115000)\n",
      "Loading outfiles-plots/2016APV_dask_EWKV.coffea\n",
      "WeightStatistics(sumw=11230902.541239835, sumw2=11237590.041202143, minw=0.9393227998667126, maxw=2.8259100808126765, n=11231000)\n",
      "Loading outfiles-plots/2016APV_dask_GluGluHToBB.coffea\n",
      "WeightStatistics(sumw=269943.24798223894, sumw2=270536.02964025864, minw=0.946396368473893, maxw=2.724055786570322, n=270000)\n",
      "Loading outfiles-plots/2016APV_dask_SingleTop.coffea\n",
      "WeightStatistics(sumw=161012903.36660096, sumw2=161049765.0547802, minw=0.9351501973815943, maxw=2.931032585557391, n=161003366)\n"
     ]
    }
   ],
   "source": [
    "indir = \"outfiles-plots/\"\n",
    "infiles = subprocess.getoutput(\"ls \"+indir+year+\"_dask_*.coffea\").split()\n",
    "outsum = processor.dict_accumulator()\n",
    "\n",
    "for filename in infiles:\n",
    "    \n",
    "    if 'Data' in filename:\n",
    "        continue\n",
    "        \n",
    "    print(\"Loading \"+filename)\n",
    "\n",
    "    if os.path.isfile(filename):\n",
    "        out = util.load(filename)\n",
    "    else:\n",
    "        continue\n",
    "        \n",
    "    weightStats = out['weightStats']\n",
    "    if 'btagSF' in weightStats.keys():\n",
    "        print(weightStats['btagSF'])\n",
    "    else:\n",
    "        print(weightStats['btagLightSF'])"
   ]
  },
  {
   "cell_type": "code",
   "execution_count": null,
   "id": "5902847d",
   "metadata": {},
   "outputs": [],
   "source": []
  }
 ],
 "metadata": {
  "kernelspec": {
   "display_name": "Python 3 (ipykernel)",
   "language": "python",
   "name": "python3"
  },
  "language_info": {
   "codemirror_mode": {
    "name": "ipython",
    "version": 3
   },
   "file_extension": ".py",
   "mimetype": "text/x-python",
   "name": "python",
   "nbconvert_exporter": "python",
   "pygments_lexer": "ipython3",
   "version": "3.8.13"
  }
 },
 "nbformat": 4,
 "nbformat_minor": 5
}
