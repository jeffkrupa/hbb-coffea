{
 "cells": [
  {
   "cell_type": "code",
   "execution_count": 1,
   "id": "6fa6407b",
   "metadata": {},
   "outputs": [],
   "source": [
    "import awkward as ak\n",
    "from coffea.nanoevents import NanoEventsFactory, NanoAODSchema"
   ]
  },
  {
   "cell_type": "code",
   "execution_count": 2,
   "id": "dbb55ac2",
   "metadata": {},
   "outputs": [],
   "source": [
    "# one data file from 2016\n",
    "fname = \"root://cmsxrootd.fnal.gov//store/user/lpcpfnano/jekrupa/v2_2/2016/JetHT2016/JetHT/JetHT_Run2016F/211102_153027/0000/nano_data2016_1-17.root\"\n",
    "\n",
    "fileset = {\n",
    "    \"Data\":[fname]\n",
    "}"
   ]
  },
  {
   "cell_type": "code",
   "execution_count": 3,
   "id": "78aabddf",
   "metadata": {},
   "outputs": [
    {
     "name": "stderr",
     "output_type": "stream",
     "text": [
      "/opt/conda/lib/python3.8/site-packages/coffea/nanoevents/mapping/uproot.py:86: UserWarning: Found duplicate branch FatJetAK15SubJet_nBHadrons in <TTree 'Events' (1622 branches) at 0x7fde45ae9c70>, taking first instance\n",
      "  warnings.warn(\n",
      "/opt/conda/lib/python3.8/site-packages/coffea/nanoevents/mapping/uproot.py:86: UserWarning: Found duplicate branch FatJetAK15SubJet_nCHadrons in <TTree 'Events' (1622 branches) at 0x7fde45ae9c70>, taking first instance\n",
      "  warnings.warn(\n",
      "/opt/conda/lib/python3.8/site-packages/coffea/nanoevents/mapping/uproot.py:86: UserWarning: Found duplicate branch FatJetAK15_nBHadrons in <TTree 'Events' (1622 branches) at 0x7fde45ae9c70>, taking first instance\n",
      "  warnings.warn(\n",
      "/opt/conda/lib/python3.8/site-packages/coffea/nanoevents/mapping/uproot.py:86: UserWarning: Found duplicate branch FatJetAK15_nCHadrons in <TTree 'Events' (1622 branches) at 0x7fde45ae9c70>, taking first instance\n",
      "  warnings.warn(\n",
      "/opt/conda/lib/python3.8/site-packages/coffea/nanoevents/mapping/uproot.py:86: UserWarning: Found duplicate branch FatJet_btagDDBvLV2 in <TTree 'Events' (1622 branches) at 0x7fde45ae9c70>, taking first instance\n",
      "  warnings.warn(\n",
      "/opt/conda/lib/python3.8/site-packages/coffea/nanoevents/mapping/uproot.py:86: UserWarning: Found duplicate branch FatJet_btagDDCvBV2 in <TTree 'Events' (1622 branches) at 0x7fde45ae9c70>, taking first instance\n",
      "  warnings.warn(\n",
      "/opt/conda/lib/python3.8/site-packages/coffea/nanoevents/mapping/uproot.py:86: UserWarning: Found duplicate branch FatJet_btagDDCvLV2 in <TTree 'Events' (1622 branches) at 0x7fde45ae9c70>, taking first instance\n",
      "  warnings.warn(\n"
     ]
    }
   ],
   "source": [
    "events = NanoEventsFactory.from_root(fname, schemaclass=NanoAODSchema).events()"
   ]
  },
  {
   "cell_type": "code",
   "execution_count": 4,
   "id": "a29efce3",
   "metadata": {},
   "outputs": [],
   "source": [
    "candidatejet = events.FatJet[:, :2]\n",
    "candidatejet = ak.firsts(candidatejet)"
   ]
  },
  {
   "cell_type": "code",
   "execution_count": 5,
   "id": "df9df1f5",
   "metadata": {},
   "outputs": [
    {
     "data": {
      "text/plain": [
       "<PtEtaPhiMCollectionArray [[], [], ... nCHadrons: 0}], []] type='32528 * var * s...'>"
      ]
     },
     "execution_count": 5,
     "metadata": {},
     "output_type": "execute_result"
    }
   ],
   "source": [
    "events.SubJet"
   ]
  },
  {
   "cell_type": "code",
   "execution_count": 6,
   "id": "1ab34398",
   "metadata": {},
   "outputs": [
    {
     "data": {
      "text/plain": [
       "<JetArray [[Jet, Jet, Jet, ... Jet, Jet, Jet]] type='32528 * var * jet'>"
      ]
     },
     "execution_count": 6,
     "metadata": {},
     "output_type": "execute_result"
    }
   ],
   "source": [
    "events.Jet"
   ]
  },
  {
   "cell_type": "code",
   "execution_count": 7,
   "id": "9277b6fe",
   "metadata": {},
   "outputs": [
    {
     "data": {
      "text/plain": [
       "<Array [-1, None, 0, -1, ... None, 0, None] type='32528 * ?int32[parameters={\"__...'>"
      ]
     },
     "execution_count": 7,
     "metadata": {},
     "output_type": "execute_result"
    }
   ],
   "source": [
    "candidatejet.subJetIdx1"
   ]
  },
  {
   "cell_type": "code",
   "execution_count": 8,
   "id": "8a71e682",
   "metadata": {},
   "outputs": [
    {
     "ename": "ValueError",
     "evalue": "in ListOffsetArray64 attempting to get -1, index out of range\n\n(https://github.com/scikit-hep/awkward-1.0/blob/1.10.2/src/cpu-kernels/awkward_ListArray_getitem_next_array.cpp#L32)",
     "output_type": "error",
     "traceback": [
      "\u001b[0;31m---------------------------------------------------------------------------\u001b[0m",
      "\u001b[0;31mValueError\u001b[0m                                Traceback (most recent call last)",
      "Cell \u001b[0;32mIn [8], line 1\u001b[0m\n\u001b[0;32m----> 1\u001b[0m subjet1 \u001b[38;5;241m=\u001b[39m \u001b[43mevents\u001b[49m\u001b[38;5;241;43m.\u001b[39;49m\u001b[43mSubJet\u001b[49m\u001b[43m[\u001b[49m\u001b[43m:\u001b[49m\u001b[43m,\u001b[49m\u001b[43mcandidatejet\u001b[49m\u001b[38;5;241;43m.\u001b[39;49m\u001b[43msubJetIdx1\u001b[49m\u001b[43m]\u001b[49m\n",
      "File \u001b[0;32m/opt/conda/lib/python3.8/site-packages/awkward/highlevel.py:991\u001b[0m, in \u001b[0;36mArray.__getitem__\u001b[0;34m(self, where)\u001b[0m\n\u001b[1;32m    579\u001b[0m \u001b[38;5;124;03m\"\"\"\u001b[39;00m\n\u001b[1;32m    580\u001b[0m \u001b[38;5;124;03mArgs:\u001b[39;00m\n\u001b[1;32m    581\u001b[0m \u001b[38;5;124;03m    where (many types supported; see below): Index of positions to\u001b[39;00m\n\u001b[0;32m   (...)\u001b[0m\n\u001b[1;32m    988\u001b[0m \u001b[38;5;124;03mhave the same dimension as the array being indexed.\u001b[39;00m\n\u001b[1;32m    989\u001b[0m \u001b[38;5;124;03m\"\"\"\u001b[39;00m\n\u001b[1;32m    990\u001b[0m \u001b[38;5;28;01mif\u001b[39;00m \u001b[38;5;129;01mnot\u001b[39;00m \u001b[38;5;28mhasattr\u001b[39m(\u001b[38;5;28mself\u001b[39m, \u001b[38;5;124m\"\u001b[39m\u001b[38;5;124m_tracers\u001b[39m\u001b[38;5;124m\"\u001b[39m):\n\u001b[0;32m--> 991\u001b[0m     tmp \u001b[38;5;241m=\u001b[39m ak\u001b[38;5;241m.\u001b[39m_util\u001b[38;5;241m.\u001b[39mwrap(\u001b[38;5;28;43mself\u001b[39;49m\u001b[38;5;241;43m.\u001b[39;49m\u001b[43mlayout\u001b[49m\u001b[43m[\u001b[49m\u001b[43mwhere\u001b[49m\u001b[43m]\u001b[49m, \u001b[38;5;28mself\u001b[39m\u001b[38;5;241m.\u001b[39m_behavior)\n\u001b[1;32m    992\u001b[0m \u001b[38;5;28;01melse\u001b[39;00m:\n\u001b[1;32m    993\u001b[0m     tmp \u001b[38;5;241m=\u001b[39m ak\u001b[38;5;241m.\u001b[39m_connect\u001b[38;5;241m.\u001b[39m_jax\u001b[38;5;241m.\u001b[39mjax_utils\u001b[38;5;241m.\u001b[39m_jaxtracers_getitem(\u001b[38;5;28mself\u001b[39m, where)\n",
      "\u001b[0;31mValueError\u001b[0m: in ListOffsetArray64 attempting to get -1, index out of range\n\n(https://github.com/scikit-hep/awkward-1.0/blob/1.10.2/src/cpu-kernels/awkward_ListArray_getitem_next_array.cpp#L32)"
     ]
    }
   ],
   "source": [
    "subjet1 = events.SubJet[:,candidatejet.subJetIdx1]"
   ]
  },
  {
   "cell_type": "code",
   "execution_count": null,
   "id": "6e4f8bd8",
   "metadata": {},
   "outputs": [],
   "source": [
    "subjet2 = events.SubJet[:,candidatejet.subJetIdx2]"
   ]
  },
  {
   "cell_type": "code",
   "execution_count": null,
   "id": "ee4e2954",
   "metadata": {},
   "outputs": [],
   "source": [
    "candidatejet.subJetIdx1.__doc__"
   ]
  },
  {
   "cell_type": "code",
   "execution_count": 9,
   "id": "58f864c4",
   "metadata": {},
   "outputs": [
    {
     "name": "stderr",
     "output_type": "stream",
     "text": [
      "/opt/conda/lib/python3.8/site-packages/coffea/util.py:154: FutureWarning: In coffea version v0.8.0 (target date: 31 Dec 2022), this will be an error.\n",
      "(Set coffea.deprecations_as_errors = True to get a stack trace now.)\n",
      "ImportError: coffea.hist is deprecated\n",
      "  warnings.warn(message, FutureWarning)\n"
     ]
    },
    {
     "name": "stdout",
     "output_type": "stream",
     "text": [
      "[########################################] | 100% Completed |  4.2s\u001b[2K\r"
     ]
    },
    {
     "name": "stderr",
     "output_type": "stream",
     "text": [
      "/opt/conda/lib/python3.8/site-packages/distributed/node.py:182: UserWarning: Port 8787 is already in use.\n",
      "Perhaps you already have a cluster running?\n",
      "Hosting the HTTP server on port 35729 instead\n",
      "  warnings.warn(\n"
     ]
    },
    {
     "name": "stdout",
     "output_type": "stream",
     "text": [
      "Total time: 25.7 seconds#################] | 100% Completed | 14.2s\u001b[2K\n"
     ]
    }
   ],
   "source": [
    "from coffea import util, processor\n",
    "from boostedhiggs import VBFArrayProcessor\n",
    "import awkward as ak\n",
    "\n",
    "import time\n",
    "tstart = time.time()\n",
    "\n",
    "year='2016'\n",
    "p = VBFArrayProcessor(year=year,jet_arbitration='ddb')\n",
    "\n",
    "#Run Coffea code using uproot\n",
    "output = processor.run_uproot_job(\n",
    "    fileset,\n",
    "    treename=\"Events\",\n",
    "    processor_instance=p,\n",
    "    executor=processor.dask_executor,\n",
    "    executor_args={'schema': NanoAODSchema},\n",
    "    chunksize=10000,\n",
    "    maxchunks=1,\n",
    ")\n",
    "\n",
    "elapsed = time.time() - tstart\n",
    "print(\"Total time: %.1f seconds\"%elapsed)"
   ]
  },
  {
   "cell_type": "code",
   "execution_count": 10,
   "id": "96570d21",
   "metadata": {},
   "outputs": [
    {
     "data": {
      "text/plain": [
       "{'Data': {'sumw': 0.0,\n",
       "  'btagWeight': Hist(Regular(50, 0, 3, name='val', label='BTag correction'), storage=Weight()) # Sum: WeightedSum(value=0, variance=0),\n",
       "  'genflavor': column_accumulator(array([0., 0., 0.])),\n",
       "  'pt': column_accumulator(array([479.  , 452.25, 536.5 ])),\n",
       "  'eta': column_accumulator(array([-1.87207031, -1.67431641,  1.84472656])),\n",
       "  'phi': column_accumulator(array([-1.62744141,  1.60302734, -0.03829193])),\n",
       "  'n2ddt': column_accumulator(array([-0.01452738, -0.01918469, -0.00951177])),\n",
       "  'msd': column_accumulator(array([151.30017441,  96.75858002, 169.63821279])),\n",
       "  'ddb': column_accumulator(array([1.85847282e-04, 8.95023346e-04, 4.69982624e-05])),\n",
       "  'deta': column_accumulator(array([4.16064453, 5.23461914, 4.27270508])),\n",
       "  'dphi': column_accumulator(array([-0.9453125 ,  0.25390625,  2.22007489])),\n",
       "  'mjj': column_accumulator(array([1447.68505859, 1680.18017578, 2171.23120117])),\n",
       "  'subjet1_pt': column_accumulator(array([], dtype=float64)),\n",
       "  'subjet1_eta': column_accumulator(array([], dtype=float64)),\n",
       "  'subjet1_phi': column_accumulator(array([], dtype=float64)),\n",
       "  'subjet2_pt': column_accumulator(array([], dtype=float64)),\n",
       "  'subjet2_eta': column_accumulator(array([], dtype=float64)),\n",
       "  'subjet2_phi': column_accumulator(array([], dtype=float64)),\n",
       "  'njets': column_accumulator(array([2., 2., 2.])),\n",
       "  'jet1_pt': column_accumulator(array([443. , 486.5, 331. ])),\n",
       "  'jet1_eta': column_accumulator(array([1.40234375, 1.25512695, 1.68334961])),\n",
       "  'jet1_phi': column_accumulator(array([ 1.37744141, -1.48486328, -3.13818359])),\n",
       "  'jet1_qgl': column_accumulator(array([0.21984863, 0.99902344, 0.71142578])),\n",
       "  'jet2_pt': column_accumulator(array([ 75.     ,  31.21875, 195.125  ])),\n",
       "  'jet2_eta': column_accumulator(array([-2.75830078, -3.97949219, -2.58935547])),\n",
       "  'jet2_phi': column_accumulator(array([ 2.32275391, -1.73876953,  0.92492676])),\n",
       "  'jet2_qgl': column_accumulator(array([0.68359375, 0.67138672, 0.43188477])),\n",
       "  'jet3_pt': column_accumulator(array([nan, nan, nan])),\n",
       "  'jet3_eta': column_accumulator(array([nan, nan, nan])),\n",
       "  'jet3_phi': column_accumulator(array([nan, nan, nan])),\n",
       "  'jet3_qgl': column_accumulator(array([nan, nan, nan])),\n",
       "  'weight': column_accumulator(array([1., 1., 1.]))}}"
      ]
     },
     "execution_count": 10,
     "metadata": {},
     "output_type": "execute_result"
    }
   ],
   "source": [
    "output"
   ]
  },
  {
   "cell_type": "code",
   "execution_count": null,
   "id": "b118a678",
   "metadata": {},
   "outputs": [],
   "source": []
  }
 ],
 "metadata": {
  "kernelspec": {
   "display_name": "Python 3 (ipykernel)",
   "language": "python",
   "name": "python3"
  },
  "language_info": {
   "codemirror_mode": {
    "name": "ipython",
    "version": 3
   },
   "file_extension": ".py",
   "mimetype": "text/x-python",
   "name": "python",
   "nbconvert_exporter": "python",
   "pygments_lexer": "ipython3",
   "version": "3.8.13"
  }
 },
 "nbformat": 4,
 "nbformat_minor": 5
}
