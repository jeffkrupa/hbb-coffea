{
 "cells": [
  {
   "cell_type": "code",
   "execution_count": 1,
   "id": "640b6579",
   "metadata": {},
   "outputs": [],
   "source": [
    "import os, sys\n",
    "import json\n",
    "import uproot\n",
    "import awkward as ak\n",
    "import numpy as np\n",
    "import matplotlib.pyplot as plt"
   ]
  },
  {
   "cell_type": "code",
   "execution_count": 2,
   "id": "e6ec75ba",
   "metadata": {},
   "outputs": [],
   "source": [
    "# Make json of muon triggers\n",
    "muontriggers = {\n",
    "    '2016APV': [ 'Mu50', 'TkMu50' ],\n",
    "    '2016': [ 'Mu50', 'TkMu50' ],\n",
    "    '2017': [ 'Mu50', 'OldMu100', 'TkMu100'],\n",
    "    '2018': [ 'Mu50', 'OldMu100', 'TkMu100' ],\n",
    "}\n",
    "\n",
    "with open('muon_triggers.json', 'w') as outfile:\n",
    "    json.dump(muontriggers, outfile)"
   ]
  },
  {
   "cell_type": "code",
   "execution_count": 3,
   "id": "33885214",
   "metadata": {},
   "outputs": [],
   "source": [
    "# Make json of jet triggers\n",
    "triggers = {\n",
    "    '2016APV': [\n",
    "            'PFHT800',\n",
    "            'PFHT900',\n",
    "            'AK8PFJet360_TrimMass30',\n",
    "            'AK8PFHT700_TrimR0p1PT0p03Mass50',\n",
    "            'PFHT650_WideJetMJJ950DEtaJJ1p5',\n",
    "            'PFHT650_WideJetMJJ900DEtaJJ1p5',\n",
    "            'AK8DiPFJet280_200_TrimMass30_BTagCSV_p20',\n",
    "            'PFJet450',\n",
    "        ],\n",
    "    '2016': [\n",
    "            'PFHT800',\n",
    "            'PFHT900',\n",
    "            'AK8PFJet360_TrimMass30',\n",
    "            'AK8PFHT700_TrimR0p1PT0p03Mass50',\n",
    "            'PFHT650_WideJetMJJ950DEtaJJ1p5',\n",
    "            'PFHT650_WideJetMJJ900DEtaJJ1p5',\n",
    "            'AK8DiPFJet280_200_TrimMass30_BTagCSV_p20',\n",
    "            'PFJet450',\n",
    "        ],\n",
    "    '2017': [\n",
    "            'AK8PFJet330_PFAK8BTagCSV_p17',\n",
    "            'PFHT1050',\n",
    "            'AK8PFJet400_TrimMass30',\n",
    "#            'AK8PFJet420_TrimMass30',\n",
    "            'AK8PFHT800_TrimMass50',\n",
    "            'PFJet500',\n",
    "            'AK8PFJet500',\n",
    "        ],\n",
    "    '2018': [\n",
    "            'AK8PFJet400_TrimMass30',\n",
    "#            'AK8PFJet420_TrimMass30',\n",
    "            'AK8PFHT800_TrimMass50',\n",
    "            'PFHT1050',\n",
    "            'PFJet500',\n",
    "            'AK8PFJet500',\n",
    "            'AK8PFJet330_TrimMass30_PFAK8BoostedDoubleB_np4',\n",
    "    ],\n",
    "}\n",
    "\n",
    "with open('triggers.json', 'w') as outfile:\n",
    "    json.dump(triggers, outfile)\n"
   ]
  }
 ],
 "metadata": {
  "kernelspec": {
   "display_name": "Python 3 (ipykernel)",
   "language": "python",
   "name": "python3"
  },
  "language_info": {
   "codemirror_mode": {
    "name": "ipython",
    "version": 3
   },
   "file_extension": ".py",
   "mimetype": "text/x-python",
   "name": "python",
   "nbconvert_exporter": "python",
   "pygments_lexer": "ipython3",
   "version": "3.8.13"
  }
 },
 "nbformat": 4,
 "nbformat_minor": 5
}
