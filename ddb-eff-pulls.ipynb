{
 "cells": [
  {
   "cell_type": "code",
   "execution_count": 6,
   "id": "95a47793",
   "metadata": {},
   "outputs": [],
   "source": [
    "import matplotlib.pyplot as plt"
   ]
  },
  {
   "cell_type": "code",
   "execution_count": null,
   "id": "31ae50ff",
   "metadata": {},
   "outputs": [],
   "source": [
    "zfixed = {}\n",
    "zfloat = {}\n",
    "\n",
    "years = ['2016APV','2016','2017','2018']\n",
    "for y in years:\n",
    "    zfixed[y] = {}\n",
    "    zfloat[y] = {}"
   ]
  },
  {
   "cell_type": "code",
   "execution_count": null,
   "id": "fc3d1a72",
   "metadata": {},
   "outputs": [],
   "source": [
    "zfloat[\"2016\"][\"val\"] = -0.899676 \n",
    "zfloat[\"2016\"][\"err\"] = 0.400962\n",
    "zfloat[\"2016APV\"][\"val\"] = 0.164287\n",
    "zfloat[\"2016APV\"][\"err\"] = 0.433461\n",
    "zfloat[\"2017\"][\"val\"] = -0.321561\n",
    "zfloat[\"2017\"][\"err\"] = 0.173331\n",
    "zfloat[\"2018\"][\"val\"] = 0.873297\n",
    "zfloat[\"2018\"][\"err\"] = 0.225942"
   ]
  },
  {
   "cell_type": "code",
   "execution_count": 43,
   "id": "3fa379ff",
   "metadata": {},
   "outputs": [],
   "source": [
    "zfixed[\"2016\"][\"val\"] = -0.94006\n",
    "zfixed[\"2016\"][\"err\"] = 0.409051\n",
    "zfixed[\"2016APV\"][\"val\"] = 0.204508\n",
    "zfixed[\"2016APV\"][\"err\"] = 0.45054\n",
    "zfixed[\"2017\"][\"val\"] = -0.261499\n",
    "zfixed[\"2017\"][\"err\"] = 0.168671\n",
    "zfixed[\"2018\"][\"val\"] = 0.952995\n",
    "zfixed[\"2018\"][\"err\"] = 0.202369"
   ]
  },
  {
   "cell_type": "code",
   "execution_count": 48,
   "id": "f41ac002",
   "metadata": {},
   "outputs": [
    {
     "data": {
      "text/plain": [
       "<matplotlib.legend.Legend at 0x7fadce20daf0>"
      ]
     },
     "execution_count": 48,
     "metadata": {},
     "output_type": "execute_result"
    },
    {
     "data": {
      "image/png": "[encoded data removed]",
      "text/plain": [
       "<Figure size 432x288 with 1 Axes>"
      ]
     },
     "metadata": {
      "needs_background": "light"
     },
     "output_type": "display_data"
    }
   ],
   "source": [
    "plt.fill_between(range(-1,5), -1, 1, alpha = 0.5, color='gray')\n",
    "plt.plot([-1,5],[0,0], color='black', linestyle='--')\n",
    "\n",
    "plt.errorbar(x=years, y=[zfloat[y][\"val\"] for y in years], yerr=[zfloat[y][\"err\"] for y in years], linestyle='',marker='o', color='black', label=r'$\\mu_Z$ floats')\n",
    "\n",
    "plt.errorbar(x=[0.3,1.3,2.3,3.3], y=[zfixed[y][\"val\"] for y in years], yerr=[zfixed[y][\"err\"] for y in years], linestyle='',marker='o', color='red', label=r'$\\mu_Z$ fixed')\n",
    "plt.xlim(-0.5,3.8)\n",
    "plt.ylabel(r'DDB SF $(\\hat{\\theta}-\\theta_0)/\\Delta\\theta$')\n",
    "plt.legend(loc='lower right',frameon=False)\n"
   ]
  },
  {
   "cell_type": "code",
   "execution_count": null,
   "id": "652638ad",
   "metadata": {},
   "outputs": [],
   "source": []
  }
 ],
 "metadata": {
  "kernelspec": {
   "display_name": "Python 3 (ipykernel)",
   "language": "python",
   "name": "python3"
  },
  "language_info": {
   "codemirror_mode": {
    "name": "ipython",
    "version": 3
   },
   "file_extension": ".py",
   "mimetype": "text/x-python",
   "name": "python",
   "nbconvert_exporter": "python",
   "pygments_lexer": "ipython3",
   "version": "3.8.13"
  }
 },
 "nbformat": 4,
 "nbformat_minor": 5
}
