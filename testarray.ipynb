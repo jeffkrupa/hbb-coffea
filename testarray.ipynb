{
 "cells": [
  {
   "cell_type": "code",
   "execution_count": 1,
   "id": "009b301f",
   "metadata": {},
   "outputs": [],
   "source": [
    "import os, sys\n",
    "import subprocess\n",
    "import json\n",
    "import uproot\n",
    "import numpy as np\n",
    "import pandas as pd\n",
    "import matplotlib.pyplot as plt\n"
   ]
  },
  {
   "cell_type": "code",
   "execution_count": 2,
   "id": "82125170",
   "metadata": {},
   "outputs": [
    {
     "name": "stderr",
     "output_type": "stream",
     "text": [
      "/opt/conda/lib/python3.8/site-packages/coffea/util.py:154: FutureWarning: In coffea version v0.8.0 (target date: 31 Dec 2022), this will be an error.\n",
      "(Set coffea.deprecations_as_errors = True to get a stack trace now.)\n",
      "ImportError: coffea.hist is deprecated\n",
      "  warnings.warn(message, FutureWarning)\n"
     ]
    }
   ],
   "source": [
    "from coffea import processor, util, hist\n",
    "from coffea.nanoevents import NanoEventsFactory, NanoAODSchema\n",
    "from boostedhiggs import VBFArrayProcessor"
   ]
  },
  {
   "cell_type": "code",
   "execution_count": 3,
   "id": "3928d8fc",
   "metadata": {},
   "outputs": [],
   "source": [
    "with open('xsec.json') as f:\n",
    "    xs = json.load(f)\n",
    "with open('pmap.json') as f:\n",
    "    pmap = json.load(f)\n",
    "with open('lumi.json') as f:\n",
    "    lumis = json.load(f)"
   ]
  },
  {
   "cell_type": "code",
   "execution_count": 4,
   "id": "6aa2b538",
   "metadata": {},
   "outputs": [],
   "source": [
    "year=\"2017\"\n",
    "infiles = subprocess.getoutput(\"ls outfiles-array/\"+year+\"_dask_*.coffea\").split()\n",
    "outsum = processor.dict_accumulator()"
   ]
  },
  {
   "cell_type": "code",
   "execution_count": 5,
   "id": "86a634cd",
   "metadata": {},
   "outputs": [
    {
     "data": {
      "text/plain": [
       "['outfiles-array/2017_dask_GluGluHToBB.coffea',\n",
       " 'outfiles-array/2017_dask_VBFHToBB.coffea']"
      ]
     },
     "execution_count": 5,
     "metadata": {},
     "output_type": "execute_result"
    }
   ],
   "source": [
    "infiles"
   ]
  },
  {
   "cell_type": "code",
   "execution_count": 6,
   "id": "921e17f2",
   "metadata": {},
   "outputs": [
    {
     "name": "stdout",
     "output_type": "stream",
     "text": [
      "Loading outfiles-array/2017_dask_GluGluHToBB.coffea\n",
      "Loading outfiles-array/2017_dask_VBFHToBB.coffea\n"
     ]
    }
   ],
   "source": [
    "df_dict = {}\n",
    "\n",
    "for filename in infiles:\n",
    "    print(\"Loading \"+filename)\n",
    "\n",
    "    if os.path.isfile(filename):\n",
    "        out = util.load(filename)\n",
    "        \n",
    "        for k in out.keys():\n",
    "            cols = list(out[k].keys())\n",
    "            cols.remove('sumw')\n",
    "            cols.remove('btagWeight')\n",
    "            df = pd.DataFrame(columns=cols)\n",
    "            for c in cols:\n",
    "                df[c] = out[k][c].value\n",
    "                \n",
    "            if 'JetHT' not in k and 'SingleMuon' not in k:\n",
    "                df['weight'] = df['weight'] * xs[k] * 1000 * lumis[year] / out[k]['sumw']\n",
    "\n",
    "            df_dict[k] = df \n"
   ]
  },
  {
   "cell_type": "code",
   "execution_count": 16,
   "id": "64aa8463",
   "metadata": {},
   "outputs": [
    {
     "name": "stdout",
     "output_type": "stream",
     "text": [
      "QCD\n",
      "QCDHT\n",
      "ttbar\n",
      "ttbarBoosted\n",
      "singlet\n",
      "Wjets\n",
      "Zjets\n",
      "ZjetsHT\n",
      "VV\n",
      "VVNLO\n",
      "EWKZ\n",
      "EWKW\n",
      "ggF\n",
      "VBFDipoleRecoilOff\n",
      "VBF\n",
      "WH\n",
      "ZH\n",
      "ttH\n",
      "data\n",
      "muondata\n"
     ]
    },
    {
     "data": {
      "text/plain": [
       "<matplotlib.legend.Legend at 0x7f574a82a0d0>"
      ]
     },
     "execution_count": 16,
     "metadata": {},
     "output_type": "execute_result"
    },
    {
     "data": {
      "image/png": "[encoded data removed]",
      "text/plain": [
       "<Figure size 640x480 with 1 Axes>"
      ]
     },
     "metadata": {},
     "output_type": "display_data"
    }
   ],
   "source": [
    "dfs = {}\n",
    "\n",
    "for k in pmap.keys():\n",
    "    print(k)\n",
    "    \n",
    "    processes = [df_dict[p] for p in pmap[k] if p in df_dict.keys()]\n",
    "    if len(processes) == 0:\n",
    "        continue\n",
    "        \n",
    "    dfs[k] = pd.concat(processes)\n",
    "    \n",
    "    plt.hist(dfs[k]['genflavor'],histtype='step',label=k)\n",
    "    \n",
    "    \n",
    "plt.yscale('log')\n",
    "plt.legend()"
   ]
  },
  {
   "cell_type": "code",
   "execution_count": 20,
   "id": "4a665ff2",
   "metadata": {},
   "outputs": [
    {
     "name": "stdout",
     "output_type": "stream",
     "text": [
      "3.478713324760603 1.3851544636667712\n",
      "10.72188485292889 5.627823866266263\n"
     ]
    }
   ],
   "source": [
    "for p in ['ggF','VBF']:\n",
    "    print(np.sum(dfs[p][dfs[p]['ddb']<0.64]['weight']),np.sum(dfs[p][dfs[p]['ddb']>0.64]['weight']))\n"
   ]
  },
  {
   "cell_type": "code",
   "execution_count": 9,
   "id": "cec58028",
   "metadata": {},
   "outputs": [
    {
     "ename": "KeyError",
     "evalue": "'DYJetsToLL_Pt-50To100'",
     "output_type": "error",
     "traceback": [
      "\u001b[0;31m---------------------------------------------------------------------------\u001b[0m",
      "\u001b[0;31mKeyError\u001b[0m                                  Traceback (most recent call last)",
      "Cell \u001b[0;32mIn [9], line 1\u001b[0m\n\u001b[0;32m----> 1\u001b[0m \u001b[43mout\u001b[49m\u001b[43m[\u001b[49m\u001b[38;5;124;43m'\u001b[39;49m\u001b[38;5;124;43mDYJetsToLL_Pt-50To100\u001b[39;49m\u001b[38;5;124;43m'\u001b[39;49m\u001b[43m]\u001b[49m\n",
      "\u001b[0;31mKeyError\u001b[0m: 'DYJetsToLL_Pt-50To100'"
     ]
    }
   ],
   "source": [
    "out['DYJetsToLL_Pt-50To100']\n"
   ]
  },
  {
   "cell_type": "code",
   "execution_count": null,
   "id": "3e872aea",
   "metadata": {},
   "outputs": [],
   "source": [
    "\n"
   ]
  },
  {
   "cell_type": "code",
   "execution_count": null,
   "id": "344ae99a",
   "metadata": {},
   "outputs": [],
   "source": []
  }
 ],
 "metadata": {
  "kernelspec": {
   "display_name": "Python 3 (ipykernel)",
   "language": "python",
   "name": "python3"
  },
  "language_info": {
   "codemirror_mode": {
    "name": "ipython",
    "version": 3
   },
   "file_extension": ".py",
   "mimetype": "text/x-python",
   "name": "python",
   "nbconvert_exporter": "python",
   "pygments_lexer": "ipython3",
   "version": "3.8.13"
  }
 },
 "nbformat": 4,
 "nbformat_minor": 5
}
