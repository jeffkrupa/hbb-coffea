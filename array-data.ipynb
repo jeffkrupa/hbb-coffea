{
 "cells": [
  {
   "cell_type": "code",
   "execution_count": 1,
   "id": "009b301f",
   "metadata": {},
   "outputs": [],
   "source": [
    "import os, sys\n",
    "import subprocess\n",
    "import json\n",
    "import uproot\n",
    "import numpy as np\n",
    "import pandas as pd\n",
    "import matplotlib.pyplot as plt"
   ]
  },
  {
   "cell_type": "code",
   "execution_count": 2,
   "id": "82125170",
   "metadata": {},
   "outputs": [
    {
     "name": "stderr",
     "output_type": "stream",
     "text": [
      "/opt/conda/lib/python3.8/site-packages/coffea/util.py:154: FutureWarning: In coffea version v0.8.0 (target date: 31 Dec 2022), this will be an error.\n",
      "(Set coffea.deprecations_as_errors = True to get a stack trace now.)\n",
      "ImportError: coffea.hist is deprecated\n",
      "  warnings.warn(message, FutureWarning)\n"
     ]
    }
   ],
   "source": [
    "from coffea import processor, util, hist\n",
    "from coffea.nanoevents import NanoEventsFactory, NanoAODSchema\n",
    "from boostedhiggs import VBFArrayProcessor"
   ]
  },
  {
   "cell_type": "code",
   "execution_count": 3,
   "id": "3928d8fc",
   "metadata": {},
   "outputs": [],
   "source": [
    "with open('xsec.json') as f:\n",
    "    xs = json.load(f)\n",
    "with open('pmap.json') as f:\n",
    "    pmap = json.load(f)\n",
    "with open('lumi.json') as f:\n",
    "    lumis = json.load(f)\n",
    "years = ['2018']"
   ]
  },
  {
   "cell_type": "code",
   "execution_count": 4,
   "id": "921e17f2",
   "metadata": {},
   "outputs": [
    {
     "name": "stdout",
     "output_type": "stream",
     "text": [
      "Loading outfiles-array/2018_dask_JetHTData.coffea\n"
     ]
    }
   ],
   "source": [
    "df_dict = {}\n",
    "\n",
    "for year in years:\n",
    "    \n",
    "    df_dict[year] = {}\n",
    "    infiles = subprocess.getoutput(\"ls outfiles-array/\"+year+\"_dask_*.coffea\").split()\n",
    "\n",
    "    for filename in infiles:\n",
    "        print(\"Loading \"+filename)\n",
    "\n",
    "        if os.path.isfile(filename):\n",
    "            out = util.load(filename)\n",
    "        \n",
    "            for k in out.keys():\n",
    "                df = pd.DataFrame()\n",
    "                for c in ['number', 'lumiblock', 'run', 'pt', 'eta', 'phi', 'n2ddt', 'msd', 'ddb', 'deta', 'dphi', 'mjj']:                    \n",
    "                    df[c] = out[k][c].value\n",
    "                    \n",
    "                df_dict[year][k] = df \n"
   ]
  },
  {
   "cell_type": "code",
   "execution_count": 6,
   "id": "64aa8463",
   "metadata": {},
   "outputs": [],
   "source": [
    "df = pd.DataFrame()\n",
    "for k in df_dict['2018'].keys():\n",
    "    df_dict['2018'][k]['era'] = k\n",
    "    df = pd.concat([df,df_dict['2018'][k]])"
   ]
  },
  {
   "cell_type": "code",
   "execution_count": 17,
   "id": "397f5ed6",
   "metadata": {},
   "outputs": [],
   "source": [
    "df_pass = df[(df['ddb']>0.64) & (df['mjj']>1000) & (df['deta']>3.5) & (df['msd']>124.8) & (df['msd']<125.3)]"
   ]
  },
  {
   "cell_type": "code",
   "execution_count": 18,
   "id": "faf5ba10",
   "metadata": {},
   "outputs": [
    {
     "data": {
      "text/html": [
       "<div>\n",
       "<style scoped>\n",
       "    .dataframe tbody tr th:only-of-type {\n",
       "        vertical-align: middle;\n",
       "    }\n",
       "\n",
       "    .dataframe tbody tr th {\n",
       "        vertical-align: top;\n",
       "    }\n",
       "\n",
       "    .dataframe thead th {\n",
       "        text-align: right;\n",
       "    }\n",
       "</style>\n",
       "<table border=\"1\" class=\"dataframe\">\n",
       "  <thead>\n",
       "    <tr style=\"text-align: right;\">\n",
       "      <th></th>\n",
       "      <th>number</th>\n",
       "      <th>lumiblock</th>\n",
       "      <th>run</th>\n",
       "      <th>pt</th>\n",
       "      <th>eta</th>\n",
       "      <th>phi</th>\n",
       "      <th>n2ddt</th>\n",
       "      <th>msd</th>\n",
       "      <th>ddb</th>\n",
       "      <th>deta</th>\n",
       "      <th>dphi</th>\n",
       "      <th>mjj</th>\n",
       "      <th>era</th>\n",
       "    </tr>\n",
       "  </thead>\n",
       "  <tbody>\n",
       "    <tr>\n",
       "      <th>62444</th>\n",
       "      <td>488169591.0</td>\n",
       "      <td>262.0</td>\n",
       "      <td>323727.0</td>\n",
       "      <td>613.5</td>\n",
       "      <td>-0.498230</td>\n",
       "      <td>-2.562500</td>\n",
       "      <td>-0.022960</td>\n",
       "      <td>125.159533</td>\n",
       "      <td>0.741211</td>\n",
       "      <td>4.210205</td>\n",
       "      <td>-0.677979</td>\n",
       "      <td>2220.704834</td>\n",
       "      <td>JetHT_Run2018D</td>\n",
       "    </tr>\n",
       "    <tr>\n",
       "      <th>65252</th>\n",
       "      <td>107410667.0</td>\n",
       "      <td>73.0</td>\n",
       "      <td>321813.0</td>\n",
       "      <td>478.5</td>\n",
       "      <td>0.367188</td>\n",
       "      <td>-1.646240</td>\n",
       "      <td>-0.062532</td>\n",
       "      <td>125.185081</td>\n",
       "      <td>0.748047</td>\n",
       "      <td>3.842285</td>\n",
       "      <td>-0.895508</td>\n",
       "      <td>1115.928711</td>\n",
       "      <td>JetHT_Run2018D</td>\n",
       "    </tr>\n",
       "    <tr>\n",
       "      <th>78861</th>\n",
       "      <td>489694607.0</td>\n",
       "      <td>253.0</td>\n",
       "      <td>321712.0</td>\n",
       "      <td>519.5</td>\n",
       "      <td>-0.661499</td>\n",
       "      <td>0.480164</td>\n",
       "      <td>-0.019274</td>\n",
       "      <td>125.021587</td>\n",
       "      <td>0.700195</td>\n",
       "      <td>3.770508</td>\n",
       "      <td>-1.537842</td>\n",
       "      <td>1044.664795</td>\n",
       "      <td>JetHT_Run2018D</td>\n",
       "    </tr>\n",
       "  </tbody>\n",
       "</table>\n",
       "</div>"
      ],
      "text/plain": [
       "            number  lumiblock       run     pt       eta       phi     n2ddt  \\\n",
       "62444  488169591.0      262.0  323727.0  613.5 -0.498230 -2.562500 -0.022960   \n",
       "65252  107410667.0       73.0  321813.0  478.5  0.367188 -1.646240 -0.062532   \n",
       "78861  489694607.0      253.0  321712.0  519.5 -0.661499  0.480164 -0.019274   \n",
       "\n",
       "              msd       ddb      deta      dphi          mjj             era  \n",
       "62444  125.159533  0.741211  4.210205 -0.677979  2220.704834  JetHT_Run2018D  \n",
       "65252  125.185081  0.748047  3.842285 -0.895508  1115.928711  JetHT_Run2018D  \n",
       "78861  125.021587  0.700195  3.770508 -1.537842  1044.664795  JetHT_Run2018D  "
      ]
     },
     "execution_count": 18,
     "metadata": {},
     "output_type": "execute_result"
    }
   ],
   "source": [
    "df_pass"
   ]
  },
  {
   "cell_type": "code",
   "execution_count": 28,
   "id": "792aea6d",
   "metadata": {},
   "outputs": [
    {
     "data": {
      "text/plain": [
       "number          489694607.0\n",
       "lumiblock             253.0\n",
       "run                321712.0\n",
       "pt                    519.5\n",
       "eta               -0.661499\n",
       "phi                0.480164\n",
       "n2ddt             -0.019274\n",
       "msd              125.021587\n",
       "ddb                0.700195\n",
       "deta               3.770508\n",
       "dphi              -1.537842\n",
       "mjj             1044.664795\n",
       "era          JetHT_Run2018D\n",
       "Name: 78861, dtype: object"
      ]
     },
     "execution_count": 28,
     "metadata": {},
     "output_type": "execute_result"
    }
   ],
   "source": [
    "df_pass.iloc[2]"
   ]
  },
  {
   "cell_type": "code",
   "execution_count": 20,
   "id": "4a665ff2",
   "metadata": {},
   "outputs": [
    {
     "data": {
      "text/plain": [
       "(array([1., 0., 0., 0., 0., 0., 0., 0., 1., 1.]),\n",
       " array([125.02158673, 125.03793619, 125.05428565, 125.07063512,\n",
       "        125.08698458, 125.10333404, 125.1196835 , 125.13603296,\n",
       "        125.15238242, 125.16873189, 125.18508135]),\n",
       " <BarContainer object of 10 artists>)"
      ]
     },
     "execution_count": 20,
     "metadata": {},
     "output_type": "execute_result"
    },
    {
     "data": {
      "image/png": "[encoded data removed]",
      "text/plain": [
       "<Figure size 640x480 with 1 Axes>"
      ]
     },
     "metadata": {},
     "output_type": "display_data"
    }
   ],
   "source": [
    "plt.hist(df_pass['msd'])"
   ]
  },
  {
   "cell_type": "code",
   "execution_count": 21,
   "id": "8fda4c82",
   "metadata": {},
   "outputs": [
    {
     "data": {
      "text/plain": [
       "(array([1., 0., 0., 0., 0., 0., 0., 0., 1., 1.]),\n",
       " array([0.70019531, 0.70498047, 0.70976562, 0.71455078, 0.71933594,\n",
       "        0.72412109, 0.72890625, 0.73369141, 0.73847656, 0.74326172,\n",
       "        0.74804688]),\n",
       " <BarContainer object of 10 artists>)"
      ]
     },
     "execution_count": 21,
     "metadata": {},
     "output_type": "execute_result"
    },
    {
     "data": {
      "image/png": "[encoded data removed]",
      "text/plain": [
       "<Figure size 640x480 with 1 Axes>"
      ]
     },
     "metadata": {},
     "output_type": "display_data"
    }
   ],
   "source": [
    "plt.hist(df_pass['ddb'])"
   ]
  },
  {
   "cell_type": "code",
   "execution_count": 22,
   "id": "75a9d052",
   "metadata": {},
   "outputs": [
    {
     "data": {
      "text/plain": [
       "(array([2., 0., 0., 0., 0., 0., 0., 0., 0., 1.]),\n",
       " array([1044.66479492, 1162.26879883, 1279.87280273, 1397.47680664,\n",
       "        1515.08081055, 1632.68481445, 1750.28881836, 1867.89282227,\n",
       "        1985.49682617, 2103.10083008, 2220.70483398]),\n",
       " <BarContainer object of 10 artists>)"
      ]
     },
     "execution_count": 22,
     "metadata": {},
     "output_type": "execute_result"
    },
    {
     "data": {
      "image/png": "[encoded data removed]",
      "text/plain": [
       "<Figure size 640x480 with 1 Axes>"
      ]
     },
     "metadata": {},
     "output_type": "display_data"
    }
   ],
   "source": [
    "plt.hist(df_pass['mjj'])"
   ]
  },
  {
   "cell_type": "code",
   "execution_count": 23,
   "id": "d7ac9247",
   "metadata": {},
   "outputs": [
    {
     "data": {
      "text/plain": [
       "(array([1., 0., 0., 1., 0., 0., 0., 0., 0., 1.]),\n",
       " array([478.5, 492. , 505.5, 519. , 532.5, 546. , 559.5, 573. , 586.5,\n",
       "        600. , 613.5]),\n",
       " <BarContainer object of 10 artists>)"
      ]
     },
     "execution_count": 23,
     "metadata": {},
     "output_type": "execute_result"
    },
    {
     "data": {
      "image/png": "[encoded data removed]",
      "text/plain": [
       "<Figure size 640x480 with 1 Axes>"
      ]
     },
     "metadata": {},
     "output_type": "display_data"
    }
   ],
   "source": [
    "plt.hist(df_pass['pt'])"
   ]
  },
  {
   "cell_type": "code",
   "execution_count": 24,
   "id": "039a17d6",
   "metadata": {},
   "outputs": [
    {
     "data": {
      "text/plain": [
       "<matplotlib.collections.PathCollection at 0x7f2fd2e00160>"
      ]
     },
     "execution_count": 24,
     "metadata": {},
     "output_type": "execute_result"
    },
    {
     "data": {
      "image/png": "[encoded data removed]",
      "text/plain": [
       "<Figure size 640x480 with 1 Axes>"
      ]
     },
     "metadata": {},
     "output_type": "display_data"
    }
   ],
   "source": [
    "plt.scatter(df_pass['msd'],df_pass['pt'])"
   ]
  },
  {
   "cell_type": "code",
   "execution_count": null,
   "id": "53f28cd4",
   "metadata": {},
   "outputs": [],
   "source": []
  }
 ],
 "metadata": {
  "kernelspec": {
   "display_name": "Python 3 (ipykernel)",
   "language": "python",
   "name": "python3"
  },
  "language_info": {
   "codemirror_mode": {
    "name": "ipython",
    "version": 3
   },
   "file_extension": ".py",
   "mimetype": "text/x-python",
   "name": "python",
   "nbconvert_exporter": "python",
   "pygments_lexer": "ipython3",
   "version": "3.8.13"
  }
 },
 "nbformat": 4,
 "nbformat_minor": 5
}
